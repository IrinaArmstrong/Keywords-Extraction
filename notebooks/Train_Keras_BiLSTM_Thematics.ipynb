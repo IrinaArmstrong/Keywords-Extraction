{
 "cells": [
  {
   "cell_type": "markdown",
   "metadata": {
    "id": "80u8nNh7KBco"
   },
   "source": [
    "# Environment"
   ]
  },
  {
   "cell_type": "code",
   "execution_count": 1,
   "metadata": {
    "collapsed": true,
    "jupyter": {
     "outputs_hidden": true
    },
    "scrolled": true
   },
   "outputs": [],
   "source": [
    "# !pip install tensorflow==2.3.1   #2.3.0"
   ]
  },
  {
   "cell_type": "code",
   "execution_count": 2,
   "metadata": {
    "collapsed": true,
    "jupyter": {
     "outputs_hidden": true
    }
   },
   "outputs": [],
   "source": [
    "# !pip install --upgrade pip"
   ]
  },
  {
   "cell_type": "code",
   "execution_count": 18,
   "metadata": {
    "scrolled": true
   },
   "outputs": [
    {
     "name": "stdout",
     "output_type": "stream",
     "text": [
      "Looking in indexes: http://mirror.ca.sbrf.ru/pypi/simple\n",
      "Requirement already satisfied: tensorflow_addons in /opt/app-root/lib/python3.6/site-packages (0.13.0)\n",
      "Requirement already satisfied: typeguard>=2.7 in /opt/app-root/lib/python3.6/site-packages (from tensorflow_addons) (2.12.1)\n",
      "\u001b[33mWARNING: You are using pip version 21.1; however, version 21.1.3 is available.\n",
      "You should consider upgrading via the '/opt/app-root/bin/python3.6 -m pip install --upgrade pip' command.\u001b[0m\n"
     ]
    }
   ],
   "source": [
    "# !pip uninstall tensorflow-gpu  #==2.3.1\n",
    "# !pip install seaborn\n",
    "# !pip install pymorphy2\n",
    "# !pip install scikit-learn\n",
    "!pip install tensorflow_addons\n",
    "# !pip install spacy\n",
    "# !pip install gensim\n",
    "# !pip install nltk\n",
    "# !pip install psutil\n",
    "# !pip install psycopg2\n",
    "# !pip install keras==2.3.1"
   ]
  },
  {
   "cell_type": "code",
   "execution_count": 19,
   "metadata": {
    "id": "yUj4v-tfKBcs"
   },
   "outputs": [
    {
     "name": "stdout",
     "output_type": "stream",
     "text": [
      "The autoreload extension is already loaded. To reload it, use:\n",
      "  %reload_ext autoreload\n"
     ]
    }
   ],
   "source": [
    "%load_ext autoreload\n",
    "%autoreload 2"
   ]
  },
  {
   "cell_type": "code",
   "execution_count": 20,
   "metadata": {
    "id": "9yp3AbMjKBct"
   },
   "outputs": [],
   "source": [
    "import matplotlib.pyplot as plt\n",
    "%matplotlib inline\n",
    "\n",
    "import seaborn as sns\n",
    "sns.set_style('darkgrid')  #darkgrid"
   ]
  },
  {
   "cell_type": "code",
   "execution_count": 21,
   "metadata": {
    "id": "m_rMZvogKBct"
   },
   "outputs": [],
   "source": [
    "# Basic\n",
    "import os\n",
    "import re\n",
    "import sys\n",
    "import glob\n",
    "import gc\n",
    "import random\n",
    "import pickle\n",
    "import psutil\n",
    "import psycopg2\n",
    "import datetime\n",
    "import numpy as np\n",
    "import pandas as pd\n",
    "\n",
    "from pathlib import Path\n",
    "from pprint import pprint\n",
    "from collections import Counter, namedtuple\n",
    "from sklearn.preprocessing import LabelEncoder\n",
    "from collections import defaultdict, namedtuple, deque, Counter\n",
    "from typing import (List, Dict, Any, NoReturn, \n",
    "                    Tuple, Optional, Union)\n",
    "from tqdm import tqdm\n",
    "from datetime import datetime as dt\n",
    "\n",
    "from sklearn.model_selection import train_test_split\n",
    "\n",
    "import warnings\n",
    "warnings.filterwarnings('ignore')"
   ]
  },
  {
   "cell_type": "code",
   "execution_count": 22,
   "metadata": {},
   "outputs": [],
   "source": [
    "# from tensorflow.keras import backend as K"
   ]
  },
  {
   "cell_type": "code",
   "execution_count": 23,
   "metadata": {
    "id": "Mygg5wPoKBct"
   },
   "outputs": [
    {
     "name": "stdout",
     "output_type": "stream",
     "text": [
      "The tensorboard extension is already loaded. To reload it, use:\n",
      "  %reload_ext tensorboard\n"
     ]
    }
   ],
   "source": [
    "# Keras NN\n",
    "%load_ext tensorboard\n",
    "!rm -rf ./logs/\n",
    "\n",
    "from tensorflow import keras\n",
    "# import keras\n",
    "import tensorflow as tf\n",
    "from tensorflow.keras import backend as K\n",
    "from tensorflow.keras.models import load_model\n",
    "from tensorflow.keras.models import Sequential, Model\n",
    "from tensorflow.keras.optimizers import Adam, SGD, schedules\n",
    "from tensorflow.keras.preprocessing.sequence import pad_sequences\n",
    "from tensorflow.keras.callbacks import EarlyStopping, ModelCheckpoint\n",
    "from tensorflow.keras import initializers, regularizers, constraints, optimizers, layers\n",
    "from tensorflow.keras.layers import (Dense, Embedding, LSTM, BatchNormalization, concatenate, Bidirectional, \n",
    "                          Input, Lambda, MaxPooling1D, AveragePooling1D, Flatten, Dropout, Layer, \n",
    "                          GlobalAveragePooling1D, GlobalMaxPooling1D, Masking, TimeDistributed, \n",
    "                          Multiply, Softmax, BatchNormalization, LayerNormalization, Concatenate, Reshape, Conv1D)"
   ]
  },
  {
   "cell_type": "code",
   "execution_count": 24,
   "metadata": {
    "id": "ETq01igPKBcv"
   },
   "outputs": [],
   "source": [
    "# Keras Addons\n",
    "import tensorflow_addons as tfa\n",
    "from tensorflow_addons.losses import metric_learning\n",
    "from tensorflow_addons.utils.types import FloatTensorLike, TensorLike"
   ]
  },
  {
   "cell_type": "code",
   "execution_count": 25,
   "metadata": {
    "id": "I-lEzRpcKBcv"
   },
   "outputs": [],
   "source": [
    "# Clustering\n",
    "from scipy.spatial.distance import cosine\n",
    "from sklearn.metrics.pairwise import cosine_similarity\n",
    "from scipy.cluster.hierarchy import linkage, cut_tree\n",
    "from sklearn.metrics import adjusted_rand_score, adjusted_mutual_info_score\n",
    "\n",
    "# Classification\n",
    "from sklearn.model_selection import GridSearchCV\n",
    "from sklearn.neighbors import KNeighborsClassifier\n",
    "from sklearn.metrics import (balanced_accuracy_score, accuracy_score, \n",
    "                             classification_report, confusion_matrix)\n",
    "\n",
    "# W2V\n",
    "import spacy\n",
    "import pymorphy2\n",
    "from gensim.models import KeyedVectors\n",
    "from gensim.models.phrases import Phrases\n",
    "from nltk.stem.snowball import SnowballStemmer"
   ]
  },
  {
   "cell_type": "code",
   "execution_count": 26,
   "metadata": {
    "id": "WBHJLx1eKBcv"
   },
   "outputs": [],
   "source": [
    "import logging\n",
    "logging.basicConfig(format='%(asctime)s - %(message)s',\n",
    "                    datefmt='%Y-%m-%d %H:%M:%S',\n",
    "                    level=logging.INFO)"
   ]
  },
  {
   "cell_type": "code",
   "execution_count": 27,
   "metadata": {},
   "outputs": [
    {
     "data": {
      "text/plain": [
       "'2.3.1'"
      ]
     },
     "execution_count": 27,
     "metadata": {},
     "output_type": "execute_result"
    }
   ],
   "source": [
    "import tensorflow as tf\n",
    "tf.__version__"
   ]
  },
  {
   "cell_type": "markdown",
   "metadata": {
    "id": "Hf4Kp9bXKBcv"
   },
   "source": [
    "## Define paths"
   ]
  },
  {
   "cell_type": "code",
   "execution_count": 28,
   "metadata": {},
   "outputs": [],
   "source": [
    "from tensorflow.python.client import device_lib"
   ]
  },
  {
   "cell_type": "code",
   "execution_count": 29,
   "metadata": {},
   "outputs": [
    {
     "name": "stdout",
     "output_type": "stream",
     "text": [
      "['/device:CPU:0', '/device:XLA_CPU:0', '/device:XLA_GPU:0', '/device:GPU:0']\n"
     ]
    },
    {
     "data": {
      "text/plain": [
       "[name: \"/device:CPU:0\"\n",
       " device_type: \"CPU\"\n",
       " memory_limit: 268435456\n",
       " locality {\n",
       " }\n",
       " incarnation: 3619234566779545703,\n",
       " name: \"/device:XLA_CPU:0\"\n",
       " device_type: \"XLA_CPU\"\n",
       " memory_limit: 17179869184\n",
       " locality {\n",
       " }\n",
       " incarnation: 2205508303870265760\n",
       " physical_device_desc: \"device: XLA_CPU device\",\n",
       " name: \"/device:XLA_GPU:0\"\n",
       " device_type: \"XLA_GPU\"\n",
       " memory_limit: 17179869184\n",
       " locality {\n",
       " }\n",
       " incarnation: 17510982958214408676\n",
       " physical_device_desc: \"device: XLA_GPU device\",\n",
       " name: \"/device:GPU:0\"\n",
       " device_type: \"GPU\"\n",
       " memory_limit: 15685569792\n",
       " locality {\n",
       "   bus_id: 1\n",
       "   links {\n",
       "   }\n",
       " }\n",
       " incarnation: 12810166627085241792\n",
       " physical_device_desc: \"device: 0, name: NVIDIA Tesla P100-PCIE-16GB, pci bus id: 0000:00:05.0, compute capability: 6.0\"]"
      ]
     },
     "execution_count": 29,
     "metadata": {},
     "output_type": "execute_result"
    }
   ],
   "source": [
    "def get_available_devices():\n",
    "    local_device_protos = device_lib.list_local_devices()\n",
    "    return [x.name for x in local_device_protos]\n",
    "print(get_available_devices()) \n",
    "device_lib.list_local_devices()"
   ]
  },
  {
   "cell_type": "code",
   "execution_count": 30,
   "metadata": {},
   "outputs": [
    {
     "name": "stdout",
     "output_type": "stream",
     "text": [
      "CPU count: 32\n",
      "CPU utilization: 1.0%\n",
      "Memory total: 235609.53515625 MB.\n",
      "Memory available: 227898.16015625 MB.\n",
      "Memory used: 6824.5625 MB.\n"
     ]
    }
   ],
   "source": [
    "print(f\"CPU count: {psutil.cpu_count()}\")\n",
    "print(f\"CPU utilization: {psutil.cpu_percent()}%\")\n",
    "mem_stats = psutil.virtual_memory()\n",
    "print(f\"Memory total: {mem_stats.total / 1048576} MB.\")\n",
    "print(f\"Memory available: {mem_stats.available / 1048576} MB.\")\n",
    "print(f\"Memory used: {mem_stats.used / 1048576} MB.\")"
   ]
  },
  {
   "cell_type": "code",
   "execution_count": 31,
   "metadata": {
    "colab": {
     "base_uri": "https://localhost:8080/"
    },
    "id": "mSQFprY4LQC9",
    "outputId": "a3340107-0c8d-4bac-a913-15de6fbf3908"
   },
   "outputs": [
    {
     "name": "stdout",
     "output_type": "stream",
     "text": [
      "Num GPUs Available:  /device:GPU:0\n",
      "True\n",
      "True\n",
      "tf.Tensor(3.0, shape=(), dtype=float32)\n"
     ]
    }
   ],
   "source": [
    "print(\"Num GPUs Available: \", tf.test.gpu_device_name())\n",
    "print(tf.test.is_built_with_cuda())\n",
    "print(tf.test.is_built_with_cuda())\n",
    "\n",
    "with tf.device('/device:GPU:0'):\n",
    "    print(tf.math.add(1.0, 2.0))"
   ]
  },
  {
   "cell_type": "code",
   "execution_count": 32,
   "metadata": {
    "colab": {
     "base_uri": "https://localhost:8080/"
    },
    "id": "7lsKrzw0KXwd",
    "outputId": "022b3d0b-2420-459a-c719-cfb0bc8bbc9a"
   },
   "outputs": [],
   "source": [
    "BASE_DIR = Path(\"..\")\n",
    "DATA_DIR  = BASE_DIR / \"data\"\n",
    "MODEL_DIR  = BASE_DIR / \"models\"\n",
    "CHKP_DIR = MODEL_DIR / \"chkp_dir\""
   ]
  },
  {
   "cell_type": "markdown",
   "metadata": {
    "id": "YGXdBSRZKBcw"
   },
   "source": [
    "## Load data"
   ]
  },
  {
   "cell_type": "code",
   "execution_count": 33,
   "metadata": {},
   "outputs": [],
   "source": [
    "def load_data(start_date: str, end_date: str, is_prediction: Tuple[bool], \n",
    "              maxnum: int=1e6):\n",
    "    \n",
    "    print(f\"Creating connection to DB...\")\n",
    "    connection = psycopg2.connect(\"dbname='{}' user='{}' host='{}' password='{}' port = {}\".format(\n",
    "        'pgarmat', 'postgres', 'tklis-sm0000002.vm.mos.cloud.sbrf.ru', 'ZxqZo8lX', '5432'))\n",
    "    print(f\"Connection created.\")\n",
    "    \n",
    "    with connection.cursor() as cursor:\n",
    "        try:\n",
    "            cursor.execute(f\"\"\"\n",
    "                select\n",
    "                req_num, \n",
    "                msg, \n",
    "                incident,\n",
    "                incident_probability,\n",
    "                req_reg_datetime, \n",
    "                product, \n",
    "                subject,\n",
    "                s_subject, \n",
    "                subproduct,\n",
    "                grp, \n",
    "                channel\n",
    "                from ds70.request_messages\n",
    "                where 1=1\n",
    "                and is_prediction in {is_prediction}\n",
    "                and req_reg_datetime between '{start_date}' and '{end_date}'\n",
    "                limit {maxnum};\"\"\")\n",
    "            requests = cursor.fetchall()\n",
    "        except Exception as ee:\n",
    "            print(ee)\n",
    "            connection.rollback()\n",
    "            \n",
    "        data = pd.DataFrame(requests, columns=[\"req_num\",\n",
    "                                               \"msg\",\n",
    "                                               \"incident\",\n",
    "                                               \"incident_probability\",\n",
    "                                               \"req_reg_datetime\",\n",
    "                                               \"product\",\n",
    "                                               \"subject\",\n",
    "                                               \"s_subject\",\n",
    "                                               \"subproduct\",\n",
    "                                               \"grp\",\n",
    "                                               \"channel\"])\n",
    "        print(f\"Loaded data shape: {data.shape} and size: {sys.getsizeof(data) / 1048576} MB.\")\n",
    "        return data"
   ]
  },
  {
   "cell_type": "code",
   "execution_count": 34,
   "metadata": {},
   "outputs": [],
   "source": [
    "def load_vectors_data(start_date: str, end_date: str, \n",
    "                      is_prediction: Tuple[bool], relevance_date: str,\n",
    "                      maxnum: int=1e6):\n",
    "    \n",
    "    print(f\"Creating connection to DB...\")\n",
    "    connection = psycopg2.connect(\"dbname='{}' user='{}' host='{}' password='{}' port = {}\".format(\n",
    "        'pgarmat', 'postgres', 'tklis-sm0000002.vm.mos.cloud.sbrf.ru', 'ZxqZo8lX', '5432'))\n",
    "    print(f\"Connection created.\")\n",
    "    \n",
    "    with connection.cursor() as cursor:\n",
    "        try:\n",
    "            cursor.execute(f\"\"\"\n",
    "                select\n",
    "                req_num, \n",
    "                req_reg_datetime, \n",
    "                msg,\n",
    "                product, \n",
    "                subject,\n",
    "                s_subject, \n",
    "                subproduct,\n",
    "                client_msg_vector,\n",
    "                vector_update_datetime\n",
    "                from ds70.request_messages\n",
    "                where 1=1\n",
    "                and client_msg_vector is not null\n",
    "                and vector_update_datetime >= '{relevance_date}'\n",
    "                and is_prediction in {is_prediction}\n",
    "                and req_reg_datetime between '{start_date}' and '{end_date}'\n",
    "                limit {maxnum};\"\"\")\n",
    "            requests = cursor.fetchall()\n",
    "        except Exception as ee:\n",
    "            print(ee)\n",
    "            connection.rollback()\n",
    "            \n",
    "        data = pd.DataFrame(requests, columns=[\"req_num\",\n",
    "                                               \"req_reg_datetime\",\n",
    "                                               \"msg\",\n",
    "                                               \"product\",\n",
    "                                               \"subject\",\n",
    "                                               \"s_subject\",\n",
    "                                               \"subproduct\",\n",
    "                                               \"client_msg_vector\",\n",
    "                                               \"vector_update_datetime\"])\n",
    "        print(f\"Loaded data shape: {data.shape} and size: {sys.getsizeof(data) / 1048576} MB.\")\n",
    "        return data"
   ]
  },
  {
   "cell_type": "code",
   "execution_count": null,
   "metadata": {},
   "outputs": [
    {
     "name": "stdout",
     "output_type": "stream",
     "text": [
      "Creating connection to DB...\n",
      "Connection created.\n"
     ]
    }
   ],
   "source": [
    "df = load_vectors_data(start_date='2021-01-01 0:00:01', end_date='2021-01-10 23:59:59', is_prediction=(True, False),\n",
    "                       relevance_date='2021-07-12 0:00:01', maxnum=600_000)\n",
    "# test_df = load_vectors_data(start_date='2021-03-01 0:00:01', end_date='2021-03-30 23:59:59', is_prediction=(True, False),\n",
    "#                           maxnum=200_000)"
   ]
  },
  {
   "cell_type": "code",
   "execution_count": 196,
   "metadata": {},
   "outputs": [
    {
     "data": {
      "text/html": [
       "<div>\n",
       "<style scoped>\n",
       "    .dataframe tbody tr th:only-of-type {\n",
       "        vertical-align: middle;\n",
       "    }\n",
       "\n",
       "    .dataframe tbody tr th {\n",
       "        vertical-align: top;\n",
       "    }\n",
       "\n",
       "    .dataframe thead th {\n",
       "        text-align: right;\n",
       "    }\n",
       "</style>\n",
       "<table border=\"1\" class=\"dataframe\">\n",
       "  <thead>\n",
       "    <tr style=\"text-align: right;\">\n",
       "      <th></th>\n",
       "      <th>req_num</th>\n",
       "      <th>req_reg_datetime</th>\n",
       "      <th>msg</th>\n",
       "      <th>product</th>\n",
       "      <th>subject</th>\n",
       "      <th>s_subject</th>\n",
       "      <th>subproduct</th>\n",
       "      <th>client_msg_vector</th>\n",
       "      <th>vector_update_datetime</th>\n",
       "      <th>label_name</th>\n",
       "    </tr>\n",
       "  </thead>\n",
       "  <tbody>\n",
       "    <tr>\n",
       "      <th>0</th>\n",
       "      <td>2101040984722400</td>\n",
       "      <td>2021-01-04 11:30:40</td>\n",
       "      <td>operator: #ФИО  здравствуйте client:добрый ден...</td>\n",
       "      <td>Банковская карта</td>\n",
       "      <td>Выпуск/перевыпуск/доставка карты</td>\n",
       "      <td>Статус выпуска карты</td>\n",
       "      <td>Дебетовая карта</td>\n",
       "      <td>[99.0, 63.0, 148.0, 1589.0, 1.0, 1160.0, 1.0, ...</td>\n",
       "      <td>12:50:28.455658</td>\n",
       "      <td>Банковская карта : Статус выпуска карты</td>\n",
       "    </tr>\n",
       "    <tr>\n",
       "      <th>1</th>\n",
       "      <td>2101040980205000</td>\n",
       "      <td>2021-01-04 10:28:46</td>\n",
       "      <td>operator:нет  #ФИО  здравствуйте client:здравс...</td>\n",
       "      <td>Автоплатеж</td>\n",
       "      <td>Проведение платежа</td>\n",
       "      <td>Разъяснение сроков, условий исполнения</td>\n",
       "      <td>ЖКХ (коммунальные услуги, капитальный ремонт)</td>\n",
       "      <td>[212.0, 69.0, 172.0, 89.0, 18.0, 17.0, 7.0, 22...</td>\n",
       "      <td>12:50:28.455658</td>\n",
       "      <td>Автоплатеж : Разъяснение сроков, условий испол...</td>\n",
       "    </tr>\n",
       "    <tr>\n",
       "      <th>2</th>\n",
       "      <td>2101040979369900</td>\n",
       "      <td>2021-01-04 10:16:18</td>\n",
       "      <td>operator: #ФИО  здравствуйте client:здравствуй...</td>\n",
       "      <td>Банковская карта</td>\n",
       "      <td>На счет Сбербанка/стороннего банка</td>\n",
       "      <td>Розыск перевода - подтверждение/статус</td>\n",
       "      <td>Перевод (от ФЛ к ФЛ)</td>\n",
       "      <td>[89.0, 1649.0, 2117.0, 471.0, 37.0, 78.0, 23.0...</td>\n",
       "      <td>12:50:28.455658</td>\n",
       "      <td>Банковская карта : Розыск перевода - подтвержд...</td>\n",
       "    </tr>\n",
       "    <tr>\n",
       "      <th>3</th>\n",
       "      <td>2101050067177200</td>\n",
       "      <td>2021-01-05 16:54:45</td>\n",
       "      <td>operator: #ФИО  здравствуйте client:здравствуй...</td>\n",
       "      <td>Банковская карта</td>\n",
       "      <td>Вопросы по совершенной покупке</td>\n",
       "      <td>Подтверждение/статус операции/уточнение факта ...</td>\n",
       "      <td>Дебетовая карта</td>\n",
       "      <td>[18.0, 7487.0, 30.0, 1.0, 93.0, 310.0, 839.0, ...</td>\n",
       "      <td>12:50:28.455658</td>\n",
       "      <td>Банковская карта : Подтверждение/статус операц...</td>\n",
       "    </tr>\n",
       "    <tr>\n",
       "      <th>4</th>\n",
       "      <td>2101100314341200</td>\n",
       "      <td>2021-01-10 10:28:54</td>\n",
       "      <td>operator: #ФИО  здравствуйте client:здравствуй...</td>\n",
       "      <td>Автоплатеж</td>\n",
       "      <td>Условия, комиссии и статус</td>\n",
       "      <td>Комиссии, сроки, условия, статус и параметры у...</td>\n",
       "      <td>ЖКХ (коммунальные услуги, капитальный ремонт)</td>\n",
       "      <td>[2760.0, 25368.0, 209.0, 62.0, 36.0, 1877.0, 1...</td>\n",
       "      <td>12:50:28.455658</td>\n",
       "      <td>Автоплатеж : Комиссии, сроки, условия, статус ...</td>\n",
       "    </tr>\n",
       "  </tbody>\n",
       "</table>\n",
       "</div>"
      ],
      "text/plain": [
       "            req_num    req_reg_datetime  \\\n",
       "0  2101040984722400 2021-01-04 11:30:40   \n",
       "1  2101040980205000 2021-01-04 10:28:46   \n",
       "2  2101040979369900 2021-01-04 10:16:18   \n",
       "3  2101050067177200 2021-01-05 16:54:45   \n",
       "4  2101100314341200 2021-01-10 10:28:54   \n",
       "\n",
       "                                                 msg           product  \\\n",
       "0  operator: #ФИО  здравствуйте client:добрый ден...  Банковская карта   \n",
       "1  operator:нет  #ФИО  здравствуйте client:здравс...        Автоплатеж   \n",
       "2  operator: #ФИО  здравствуйте client:здравствуй...  Банковская карта   \n",
       "3  operator: #ФИО  здравствуйте client:здравствуй...  Банковская карта   \n",
       "4  operator: #ФИО  здравствуйте client:здравствуй...        Автоплатеж   \n",
       "\n",
       "                              subject  \\\n",
       "0    Выпуск/перевыпуск/доставка карты   \n",
       "1                  Проведение платежа   \n",
       "2  На счет Сбербанка/стороннего банка   \n",
       "3      Вопросы по совершенной покупке   \n",
       "4          Условия, комиссии и статус   \n",
       "\n",
       "                                           s_subject  \\\n",
       "0                               Статус выпуска карты   \n",
       "1             Разъяснение сроков, условий исполнения   \n",
       "2             Розыск перевода - подтверждение/статус   \n",
       "3  Подтверждение/статус операции/уточнение факта ...   \n",
       "4  Комиссии, сроки, условия, статус и параметры у...   \n",
       "\n",
       "                                      subproduct  \\\n",
       "0                                Дебетовая карта   \n",
       "1  ЖКХ (коммунальные услуги, капитальный ремонт)   \n",
       "2                           Перевод (от ФЛ к ФЛ)   \n",
       "3                                Дебетовая карта   \n",
       "4  ЖКХ (коммунальные услуги, капитальный ремонт)   \n",
       "\n",
       "                                   client_msg_vector vector_update_datetime  \\\n",
       "0  [99.0, 63.0, 148.0, 1589.0, 1.0, 1160.0, 1.0, ...        12:50:28.455658   \n",
       "1  [212.0, 69.0, 172.0, 89.0, 18.0, 17.0, 7.0, 22...        12:50:28.455658   \n",
       "2  [89.0, 1649.0, 2117.0, 471.0, 37.0, 78.0, 23.0...        12:50:28.455658   \n",
       "3  [18.0, 7487.0, 30.0, 1.0, 93.0, 310.0, 839.0, ...        12:50:28.455658   \n",
       "4  [2760.0, 25368.0, 209.0, 62.0, 36.0, 1877.0, 1...        12:50:28.455658   \n",
       "\n",
       "                                          label_name  \n",
       "0            Банковская карта : Статус выпуска карты  \n",
       "1  Автоплатеж : Разъяснение сроков, условий испол...  \n",
       "2  Банковская карта : Розыск перевода - подтвержд...  \n",
       "3  Банковская карта : Подтверждение/статус операц...  \n",
       "4  Автоплатеж : Комиссии, сроки, условия, статус ...  "
      ]
     },
     "execution_count": 196,
     "metadata": {},
     "output_type": "execute_result"
    }
   ],
   "source": [
    "df.head()"
   ]
  },
  {
   "cell_type": "code",
   "execution_count": 16,
   "metadata": {},
   "outputs": [
    {
     "ename": "NameError",
     "evalue": "name 'df' is not defined",
     "output_type": "error",
     "traceback": [
      "\u001b[0;31m---------------------------------------------------------------------------\u001b[0m",
      "\u001b[0;31mNameError\u001b[0m                                 Traceback (most recent call last)",
      "\u001b[0;32m<ipython-input-16-759fb074e768>\u001b[0m in \u001b[0;36m<module>\u001b[0;34m\u001b[0m\n\u001b[0;32m----> 1\u001b[0;31m \u001b[0mdf\u001b[0m\u001b[0;34m.\u001b[0m\u001b[0mclient_msg_vector\u001b[0m\u001b[0;34m.\u001b[0m\u001b[0misna\u001b[0m\u001b[0;34m(\u001b[0m\u001b[0;34m)\u001b[0m\u001b[0;34m.\u001b[0m\u001b[0mvalue_counts\u001b[0m\u001b[0;34m(\u001b[0m\u001b[0;34m)\u001b[0m\u001b[0;34m\u001b[0m\u001b[0;34m\u001b[0m\u001b[0m\n\u001b[0m",
      "\u001b[0;31mNameError\u001b[0m: name 'df' is not defined"
     ]
    }
   ],
   "source": [
    "df.client_msg_vector.isna().value_counts()"
   ]
  },
  {
   "cell_type": "code",
   "execution_count": 20,
   "metadata": {
    "jupyter": {
     "outputs_hidden": true
    }
   },
   "outputs": [
    {
     "data": {
      "text/html": [
       "<div>\n",
       "<style scoped>\n",
       "    .dataframe tbody tr th:only-of-type {\n",
       "        vertical-align: middle;\n",
       "    }\n",
       "\n",
       "    .dataframe tbody tr th {\n",
       "        vertical-align: top;\n",
       "    }\n",
       "\n",
       "    .dataframe thead th {\n",
       "        text-align: right;\n",
       "    }\n",
       "</style>\n",
       "<table border=\"1\" class=\"dataframe\">\n",
       "  <thead>\n",
       "    <tr style=\"text-align: right;\">\n",
       "      <th></th>\n",
       "      <th>req_num</th>\n",
       "      <th>req_reg_datetime</th>\n",
       "      <th>msg</th>\n",
       "      <th>product</th>\n",
       "      <th>subject</th>\n",
       "      <th>s_subject</th>\n",
       "      <th>subproduct</th>\n",
       "      <th>client_msg_vector</th>\n",
       "      <th>vector_update_datetime</th>\n",
       "    </tr>\n",
       "  </thead>\n",
       "  <tbody>\n",
       "    <tr>\n",
       "      <th>0</th>\n",
       "      <td>2101040984722400</td>\n",
       "      <td>2021-01-04 11:30:40</td>\n",
       "      <td>operator: #ФИО  здравствуйте client:добрый ден...</td>\n",
       "      <td>Банковская карта</td>\n",
       "      <td>Выпуск/перевыпуск/доставка карты</td>\n",
       "      <td>Статус выпуска карты</td>\n",
       "      <td>Дебетовая карта</td>\n",
       "      <td>[99.0, 63.0, 148.0, 1589.0, 1.0, 1160.0, 1.0, ...</td>\n",
       "      <td>12:50:28.455658</td>\n",
       "    </tr>\n",
       "    <tr>\n",
       "      <th>1</th>\n",
       "      <td>2101040980205000</td>\n",
       "      <td>2021-01-04 10:28:46</td>\n",
       "      <td>operator:нет  #ФИО  здравствуйте client:здравс...</td>\n",
       "      <td>Автоплатеж</td>\n",
       "      <td>Проведение платежа</td>\n",
       "      <td>Разъяснение сроков, условий исполнения</td>\n",
       "      <td>ЖКХ (коммунальные услуги, капитальный ремонт)</td>\n",
       "      <td>[212.0, 69.0, 172.0, 89.0, 18.0, 17.0, 7.0, 22...</td>\n",
       "      <td>12:50:28.455658</td>\n",
       "    </tr>\n",
       "    <tr>\n",
       "      <th>2</th>\n",
       "      <td>2101040979369900</td>\n",
       "      <td>2021-01-04 10:16:18</td>\n",
       "      <td>operator: #ФИО  здравствуйте client:здравствуй...</td>\n",
       "      <td>Банковская карта</td>\n",
       "      <td>На счет Сбербанка/стороннего банка</td>\n",
       "      <td>Розыск перевода - подтверждение/статус</td>\n",
       "      <td>Перевод (от ФЛ к ФЛ)</td>\n",
       "      <td>[89.0, 1649.0, 2117.0, 471.0, 37.0, 78.0, 23.0...</td>\n",
       "      <td>12:50:28.455658</td>\n",
       "    </tr>\n",
       "    <tr>\n",
       "      <th>3</th>\n",
       "      <td>2101050067177200</td>\n",
       "      <td>2021-01-05 16:54:45</td>\n",
       "      <td>operator: #ФИО  здравствуйте client:здравствуй...</td>\n",
       "      <td>Банковская карта</td>\n",
       "      <td>Вопросы по совершенной покупке</td>\n",
       "      <td>Подтверждение/статус операции/уточнение факта ...</td>\n",
       "      <td>Дебетовая карта</td>\n",
       "      <td>[18.0, 7487.0, 30.0, 1.0, 93.0, 310.0, 839.0, ...</td>\n",
       "      <td>12:50:28.455658</td>\n",
       "    </tr>\n",
       "    <tr>\n",
       "      <th>4</th>\n",
       "      <td>2101100314341200</td>\n",
       "      <td>2021-01-10 10:28:54</td>\n",
       "      <td>operator: #ФИО  здравствуйте client:здравствуй...</td>\n",
       "      <td>Автоплатеж</td>\n",
       "      <td>Условия, комиссии и статус</td>\n",
       "      <td>Комиссии, сроки, условия, статус и параметры у...</td>\n",
       "      <td>ЖКХ (коммунальные услуги, капитальный ремонт)</td>\n",
       "      <td>[2760.0, 25368.0, 209.0, 62.0, 36.0, 1877.0, 1...</td>\n",
       "      <td>12:50:28.455658</td>\n",
       "    </tr>\n",
       "  </tbody>\n",
       "</table>\n",
       "</div>"
      ],
      "text/plain": [
       "            req_num    req_reg_datetime  \\\n",
       "0  2101040984722400 2021-01-04 11:30:40   \n",
       "1  2101040980205000 2021-01-04 10:28:46   \n",
       "2  2101040979369900 2021-01-04 10:16:18   \n",
       "3  2101050067177200 2021-01-05 16:54:45   \n",
       "4  2101100314341200 2021-01-10 10:28:54   \n",
       "\n",
       "                                                 msg           product  \\\n",
       "0  operator: #ФИО  здравствуйте client:добрый ден...  Банковская карта   \n",
       "1  operator:нет  #ФИО  здравствуйте client:здравс...        Автоплатеж   \n",
       "2  operator: #ФИО  здравствуйте client:здравствуй...  Банковская карта   \n",
       "3  operator: #ФИО  здравствуйте client:здравствуй...  Банковская карта   \n",
       "4  operator: #ФИО  здравствуйте client:здравствуй...        Автоплатеж   \n",
       "\n",
       "                              subject  \\\n",
       "0    Выпуск/перевыпуск/доставка карты   \n",
       "1                  Проведение платежа   \n",
       "2  На счет Сбербанка/стороннего банка   \n",
       "3      Вопросы по совершенной покупке   \n",
       "4          Условия, комиссии и статус   \n",
       "\n",
       "                                           s_subject  \\\n",
       "0                               Статус выпуска карты   \n",
       "1             Разъяснение сроков, условий исполнения   \n",
       "2             Розыск перевода - подтверждение/статус   \n",
       "3  Подтверждение/статус операции/уточнение факта ...   \n",
       "4  Комиссии, сроки, условия, статус и параметры у...   \n",
       "\n",
       "                                      subproduct  \\\n",
       "0                                Дебетовая карта   \n",
       "1  ЖКХ (коммунальные услуги, капитальный ремонт)   \n",
       "2                           Перевод (от ФЛ к ФЛ)   \n",
       "3                                Дебетовая карта   \n",
       "4  ЖКХ (коммунальные услуги, капитальный ремонт)   \n",
       "\n",
       "                                   client_msg_vector vector_update_datetime  \n",
       "0  [99.0, 63.0, 148.0, 1589.0, 1.0, 1160.0, 1.0, ...        12:50:28.455658  \n",
       "1  [212.0, 69.0, 172.0, 89.0, 18.0, 17.0, 7.0, 22...        12:50:28.455658  \n",
       "2  [89.0, 1649.0, 2117.0, 471.0, 37.0, 78.0, 23.0...        12:50:28.455658  \n",
       "3  [18.0, 7487.0, 30.0, 1.0, 93.0, 310.0, 839.0, ...        12:50:28.455658  \n",
       "4  [2760.0, 25368.0, 209.0, 62.0, 36.0, 1877.0, 1...        12:50:28.455658  "
      ]
     },
     "execution_count": 20,
     "metadata": {},
     "output_type": "execute_result"
    }
   ],
   "source": [
    "df.head()"
   ]
  },
  {
   "cell_type": "markdown",
   "metadata": {},
   "source": [
    "## Configure target values"
   ]
  },
  {
   "cell_type": "code",
   "execution_count": 21,
   "metadata": {
    "jupyter": {
     "outputs_hidden": true
    }
   },
   "outputs": [
    {
     "name": "stdout",
     "output_type": "stream",
     "text": [
      "815\n"
     ]
    }
   ],
   "source": [
    "df['label_name'] = df['product'] + \" : \" + df['s_subject']\n",
    "print(df['label_name'].nunique())"
   ]
  },
  {
   "cell_type": "markdown",
   "metadata": {},
   "source": [
    "### Select most frequent classes"
   ]
  },
  {
   "cell_type": "code",
   "execution_count": 22,
   "metadata": {
    "jupyter": {
     "outputs_hidden": true
    }
   },
   "outputs": [
    {
     "data": {
      "text/html": [
       "<div>\n",
       "<style scoped>\n",
       "    .dataframe tbody tr th:only-of-type {\n",
       "        vertical-align: middle;\n",
       "    }\n",
       "\n",
       "    .dataframe tbody tr th {\n",
       "        vertical-align: top;\n",
       "    }\n",
       "\n",
       "    .dataframe thead th {\n",
       "        text-align: right;\n",
       "    }\n",
       "</style>\n",
       "<table border=\"1\" class=\"dataframe\">\n",
       "  <thead>\n",
       "    <tr style=\"text-align: right;\">\n",
       "      <th></th>\n",
       "      <th>label_name</th>\n",
       "    </tr>\n",
       "  </thead>\n",
       "  <tbody>\n",
       "    <tr>\n",
       "      <th>count</th>\n",
       "      <td>815.000000</td>\n",
       "    </tr>\n",
       "    <tr>\n",
       "      <th>mean</th>\n",
       "      <td>586.186503</td>\n",
       "    </tr>\n",
       "    <tr>\n",
       "      <th>std</th>\n",
       "      <td>2877.506090</td>\n",
       "    </tr>\n",
       "    <tr>\n",
       "      <th>min</th>\n",
       "      <td>1.000000</td>\n",
       "    </tr>\n",
       "    <tr>\n",
       "      <th>25%</th>\n",
       "      <td>3.000000</td>\n",
       "    </tr>\n",
       "    <tr>\n",
       "      <th>50%</th>\n",
       "      <td>20.000000</td>\n",
       "    </tr>\n",
       "    <tr>\n",
       "      <th>75%</th>\n",
       "      <td>159.000000</td>\n",
       "    </tr>\n",
       "    <tr>\n",
       "      <th>max</th>\n",
       "      <td>52111.000000</td>\n",
       "    </tr>\n",
       "  </tbody>\n",
       "</table>\n",
       "</div>"
      ],
      "text/plain": [
       "         label_name\n",
       "count    815.000000\n",
       "mean     586.186503\n",
       "std     2877.506090\n",
       "min        1.000000\n",
       "25%        3.000000\n",
       "50%       20.000000\n",
       "75%      159.000000\n",
       "max    52111.000000"
      ]
     },
     "execution_count": 22,
     "metadata": {},
     "output_type": "execute_result"
    }
   ],
   "source": [
    "freq_labels = df.label_name.value_counts().reset_index().rename({'index': \"label_name_name\"}, axis=1)\n",
    "freq_labels.describe()"
   ]
  },
  {
   "cell_type": "code",
   "execution_count": 23,
   "metadata": {
    "jupyter": {
     "outputs_hidden": true
    }
   },
   "outputs": [
    {
     "data": {
      "text/html": [
       "<div>\n",
       "<style scoped>\n",
       "    .dataframe tbody tr th:only-of-type {\n",
       "        vertical-align: middle;\n",
       "    }\n",
       "\n",
       "    .dataframe tbody tr th {\n",
       "        vertical-align: top;\n",
       "    }\n",
       "\n",
       "    .dataframe thead th {\n",
       "        text-align: right;\n",
       "    }\n",
       "</style>\n",
       "<table border=\"1\" class=\"dataframe\">\n",
       "  <thead>\n",
       "    <tr style=\"text-align: right;\">\n",
       "      <th></th>\n",
       "      <th>label_name_name</th>\n",
       "      <th>label_name</th>\n",
       "    </tr>\n",
       "  </thead>\n",
       "  <tbody>\n",
       "    <tr>\n",
       "      <th>0</th>\n",
       "      <td>Банковская карта : Баланс/операции по карте</td>\n",
       "      <td>52111</td>\n",
       "    </tr>\n",
       "    <tr>\n",
       "      <th>1</th>\n",
       "      <td>Банковская карта : Комиссии, сроки, условия</td>\n",
       "      <td>37751</td>\n",
       "    </tr>\n",
       "    <tr>\n",
       "      <th>2</th>\n",
       "      <td>Удобство/Качество обслуживания : Реквизиты ВСП...</td>\n",
       "      <td>21036</td>\n",
       "    </tr>\n",
       "    <tr>\n",
       "      <th>3</th>\n",
       "      <td>Банковская карта : Тарифы/лимиты/ условия пред...</td>\n",
       "      <td>20338</td>\n",
       "    </tr>\n",
       "    <tr>\n",
       "      <th>4</th>\n",
       "      <td>Банковская карта : Досрочный перевыпуск дебето...</td>\n",
       "      <td>16254</td>\n",
       "    </tr>\n",
       "    <tr>\n",
       "      <th>5</th>\n",
       "      <td>Банковская карта : Кража или утеря</td>\n",
       "      <td>13399</td>\n",
       "    </tr>\n",
       "    <tr>\n",
       "      <th>6</th>\n",
       "      <td>Банковская карта : Сверхлимитная операция</td>\n",
       "      <td>12885</td>\n",
       "    </tr>\n",
       "    <tr>\n",
       "      <th>7</th>\n",
       "      <td>Банковская карта : Справочная информация (срок...</td>\n",
       "      <td>12448</td>\n",
       "    </tr>\n",
       "    <tr>\n",
       "      <th>8</th>\n",
       "      <td>Банковская карта : Статус БК/Порядок предостав...</td>\n",
       "      <td>10271</td>\n",
       "    </tr>\n",
       "    <tr>\n",
       "      <th>9</th>\n",
       "      <td>Банковская карта : БК заблокирована для провер...</td>\n",
       "      <td>9703</td>\n",
       "    </tr>\n",
       "  </tbody>\n",
       "</table>\n",
       "</div>"
      ],
      "text/plain": [
       "                                     label_name_name  label_name\n",
       "0        Банковская карта : Баланс/операции по карте       52111\n",
       "1        Банковская карта : Комиссии, сроки, условия       37751\n",
       "2  Удобство/Качество обслуживания : Реквизиты ВСП...       21036\n",
       "3  Банковская карта : Тарифы/лимиты/ условия пред...       20338\n",
       "4  Банковская карта : Досрочный перевыпуск дебето...       16254\n",
       "5                 Банковская карта : Кража или утеря       13399\n",
       "6          Банковская карта : Сверхлимитная операция       12885\n",
       "7  Банковская карта : Справочная информация (срок...       12448\n",
       "8  Банковская карта : Статус БК/Порядок предостав...       10271\n",
       "9  Банковская карта : БК заблокирована для провер...        9703"
      ]
     },
     "execution_count": 23,
     "metadata": {},
     "output_type": "execute_result"
    }
   ],
   "source": [
    "freq_labels.head(10)"
   ]
  },
  {
   "cell_type": "code",
   "execution_count": 24,
   "metadata": {
    "jupyter": {
     "outputs_hidden": true
    }
   },
   "outputs": [
    {
     "name": "stdout",
     "output_type": "stream",
     "text": [
      "Lables left:  312\n",
      "Left 472524 requests.\n"
     ]
    }
   ],
   "source": [
    "# Take only most frequent subjects\n",
    "n_freq_labels = 50\n",
    "\n",
    "freq_labels = freq_labels.loc[freq_labels.label_name > n_freq_labels]\n",
    "print(\"Lables left: \", freq_labels.shape[0])\n",
    "freq_labels_list = freq_labels.label_name_name.to_list()\n",
    "\n",
    "df = df.loc[df.label_name.isin(freq_labels_list)]\n",
    "print(f\"Left {len(df)} requests.\")"
   ]
  },
  {
   "cell_type": "markdown",
   "metadata": {},
   "source": [
    "### Train/test split"
   ]
  },
  {
   "cell_type": "code",
   "execution_count": 25,
   "metadata": {
    "jupyter": {
     "outputs_hidden": true
    }
   },
   "outputs": [
    {
     "name": "stdout",
     "output_type": "stream",
     "text": [
      "Train data: 330766 test data: 85054, val data: 56704\n"
     ]
    }
   ],
   "source": [
    "train_df, test_df = train_test_split(df, test_size=0.3, \n",
    "                                     random_state=11, stratify=df.label_name)\n",
    "test_df, val_df = train_test_split(test_df, test_size=0.4, \n",
    "                                   random_state=11, stratify=test_df.label_name)\n",
    "print(f\"Train data: {train_df.shape[0]} test data: {test_df.shape[0]}, val data: {val_df.shape[0]}\")"
   ]
  },
  {
   "cell_type": "markdown",
   "metadata": {
    "id": "rTDua1rtKBcy"
   },
   "source": [
    "## Configure preprocessing"
   ]
  },
  {
   "cell_type": "code",
   "execution_count": null,
   "metadata": {
    "collapsed": true,
    "jupyter": {
     "outputs_hidden": true
    }
   },
   "outputs": [],
   "source": [
    "def file_opener(filename: str) -> str:\n",
    "    with open(filename, 'rt', encoding='utf-8-sig') as src:\n",
    "        file = src.read()\n",
    "    return \"|\".join([x for x in file.split('\\n') if x])\n",
    "\n",
    "\n",
    "class DataPreprocessor:\n",
    "\n",
    "    text_features = ['subject', 's_subject', 'product',\n",
    "                     'subproduct', 'grp', 'channel', 'msg']\n",
    "\n",
    "    def __init__(self, only_unique: bool=True, intro_words_path: str = './lists'):\n",
    "        self.__morph = pymorphy2.MorphAnalyzer()\n",
    "        self.__nlp = spacy.blank('ru')\n",
    "        self.__only_unique = only_unique\n",
    "        self.__intro_words = file_opener(os.path.join(intro_words_path, 'intro.txt'))\n",
    "        self.__nltk_stopwords = file_opener(os.path.join(intro_words_path, 'NLTK_stopwords.txt')).split(\"|\")\n",
    "\n",
    "    def get_stopwords(self):\n",
    "        \"\"\" \n",
    "        Check intro-words list.\n",
    "        \"\"\"\n",
    "        return self.__nltk_stopwords\n",
    "\n",
    "    def get_intro_words(self):\n",
    "        \"\"\" \n",
    "        Check intro-words list.\n",
    "        \"\"\"\n",
    "        return self.__intro_words\n",
    "\n",
    "    def _reformat_datetime(self, dt: datetime) -> str:\n",
    "        \"\"\" Reformat datetime and convert to string \"\"\"\n",
    "        return dt.strftime(\"%Y-%m-%d %H-%M-%S\")\n",
    "    \n",
    "    def _process_text(self, text: str):\n",
    "        \"\"\" \n",
    "        Process single text and return list of tokens.\n",
    "        \"\"\"\n",
    "        if pd.isna(text):\n",
    "            return []\n",
    "        text = [str(token).lower()\n",
    "                for token in self.__nlp.make_doc(text)\n",
    "                if (token and token.is_alpha and len(str(token.text)) > 2 and ~token.is_stop)]\n",
    "        clean_text = []\n",
    "        for token in text:\n",
    "            token = self.__morph.parse(str(token).lower())[0]\n",
    "            if token.normal_form not in self.__nltk_stopwords:\n",
    "                clean_text.append(token.normal_form)\n",
    "        if self.__only_unique:\n",
    "            clean_text = list(set(clean_text))\n",
    "        return clean_text\n",
    "    \n",
    "\n",
    "    def process_texts(self, texts: List[str]):\n",
    "        \"\"\" \n",
    "        Process list of texts and return list of lists of tokens.\n",
    "        \"\"\"\n",
    "        return [self._process_text(text) for text in tqdm(texts)]\n",
    "\n",
    "\n",
    "    def process(self, data: pd.DataFrame,\n",
    "                features_cols: Optional[List[str]] = None, copy: bool=True) -> pd.DataFrame:\n",
    "        \"\"\"\n",
    "        Preprocess text for language modelling.\n",
    "         - clean introduction words, numbers and small prefixes;\n",
    "         - tokenize and lemmatize texts;\n",
    "        \"\"\"\n",
    "        print(\"[INFO] Text processing...\")\n",
    "        if not features_cols:\n",
    "            features_cols = self.text_features\n",
    "\n",
    "        for col_name in features_cols:\n",
    "            print(f\"[INFO] Process '{col_name}' column...\")\n",
    "            data_processed = self.process_texts(data[col_name].fillna(\"\").to_list())\n",
    "            if not copy:\n",
    "                data[col_name] = data_processed\n",
    "            else:\n",
    "                data[col_name + \"_proc\"] = data_processed\n",
    "\n",
    "        print(\"[INFO] Text finished.\")\n",
    "        return data"
   ]
  },
  {
   "cell_type": "code",
   "execution_count": 143,
   "metadata": {},
   "outputs": [],
   "source": [
    "class DataVectorizer:\n",
    " \n",
    "    def __init__(self, phrase_model: Phrases = None,\n",
    "                 w2v_vectorizer: Optional[KeyedVectors] = None):\n",
    "        \"\"\"\n",
    "        Need to load pre-trained models from files.\n",
    "        \"\"\"\n",
    "        self._w2v = w2v_vectorizer\n",
    "        self._phrase_model = phrase_model\n",
    "        self._vocab_size, self._embedding_size = self._w2v.vectors.shape\n",
    " \n",
    "       \n",
    "    @classmethod\n",
    "    def load(cls, save_path: str, phrases_fn: str, w2v_fn: str) -> object:\n",
    "        \"\"\"\n",
    "        Load pre-trained models from files and init.\n",
    "        \"\"\"\n",
    "        phrase_model = Phrases.load(os.path.join(save_path, phrases_fn))\n",
    "        w2v_vectorizer = KeyedVectors.load_word2vec_format(os.path.join(save_path, w2v_fn), binary=False)\n",
    "        return cls(phrase_model=phrase_model,\n",
    "                   w2v_vectorizer=w2v_vectorizer)\n",
    "   \n",
    "    \n",
    "    def _word2id(self, token_seq: List[List[str]], max_seq_len: int):\n",
    "        \"\"\"\n",
    "        Convert token to id in W2V vocabulary.\n",
    "        \"\"\"\n",
    "        id_seq = [[self._w2v.key_to_index[tok] + 1 for tok in doc if self._w2v.has_index_for(tok)]\n",
    "                  for doc in tqdm(token_seq)]\n",
    "#         id_seq = pad_sequences(id_seq, value=0, maxlen=max_seq_len, padding='post', truncating='post')\n",
    "        return id_seq\n",
    "    \n",
    "    \n",
    "    def _id2word(self, ids_seq: List[int], padding_value: int):\n",
    "        \"\"\"\n",
    "        Convert id to token with W2V vocabulary.\n",
    "        \"\"\"\n",
    "        if len(ids_seq) == 0:\n",
    "            tokens_seq = []\n",
    "        else:\n",
    "            tokens_seq = [self._w2v.index_to_key[int(tok_id - 1)] for tok_id in ids_seq\n",
    "                           if (self._vocab_size >= (tok_id - 1)) and (tok_id != padding_value)]\n",
    "        return tokens_seq\n",
    " \n",
    "   \n",
    "    def vectorize(self, data: pd.DataFrame, text_col: str, \n",
    "                  max_seq_len: int=150, min_seq_len: int=15) -> pd.DataFrame:\n",
    "        \"\"\"\n",
    "        Vectorize data:\n",
    "            - encode words as ids\n",
    "            - reduce dimensions\n",
    "        \"\"\"\n",
    "        text_data = data[text_col].to_list()\n",
    "        text_data = [self._phrase_model[d] if len(d) > 0 else np.zeros((max_seq_len,)) for d in text_data]\n",
    "        text_data = self._word2id(text_data, max_seq_len)\n",
    "        data['vector'] = [vec for i, vec in enumerate(text_data)]\n",
    "        data_indexes = [i for i, vec in enumerate(text_data) if np.count_nonzero(vec) > min_seq_len]\n",
    "        return data.iloc[data_indexes]\n",
    "    \n",
    "    def devectorize(self, index_vectors: np.ndarray, padding_value: int=0) -> np.ndarray:\n",
    "        \"\"\"\n",
    "        De-vectorize data:\n",
    "            - decode indexes to words\n",
    "            - concat to lists of tokens and return\n",
    "        \"\"\"\n",
    "        text_data = [self._id2word(index_vectors, padding_value) for index_vector in index_vectors]\n",
    "        return text_data\n",
    "    \n",
    "    def devectorize_df(self, data: pd.DataFrame, index_vectors_col: str, \n",
    "                       tokens_col: str, padding_value: int=0) -> np.ndarray:\n",
    "        \"\"\"\n",
    "        De-vectorize dataframe with respect to indexes:\n",
    "            - decode indexes to words\n",
    "            - concat to lists of tokens and return\n",
    "        \"\"\"\n",
    "        data[tokens_col] = data[index_vectors_col].apply(lambda x: self._id2word(x, padding_value))\n",
    "        return data\n",
    "   \n",
    "    def get_vectors(self):\n",
    "        return self._w2v.vectors"
   ]
  },
  {
   "cell_type": "code",
   "execution_count": 144,
   "metadata": {
    "scrolled": true
   },
   "outputs": [],
   "source": [
    "# processor = DataPreprocessor(intro_words_path=str(BASE_DIR / 'lists'))"
   ]
  },
  {
   "cell_type": "code",
   "execution_count": 145,
   "metadata": {},
   "outputs": [
    {
     "name": "stderr",
     "output_type": "stream",
     "text": [
      "2021-07-15 11:15:32 - loading Phrases object from ../models/phrases_gensim_lemmas_12_07_2021.pkl\n",
      "2021-07-15 11:15:35 - Phrases lifecycle event {'fname': '../models/phrases_gensim_lemmas_12_07_2021.pkl', 'datetime': '2021-07-15T11:15:35.622037', 'gensim': '4.0.1', 'python': '3.6.8 (default, Aug 18 2020, 08:33:21) \\n[GCC 8.3.1 20191121 (Red Hat 8.3.1-5)]', 'platform': 'Linux-3.10.0-1160.31.1.el7.x86_64-x86_64-with-redhat-8.3-Ootpa', 'event': 'loaded'}\n",
      "2021-07-15 11:15:35 - older version of Phrases loaded without common_terms attribute, setting connector_words to an empty set\n",
      "2021-07-15 11:15:35 - loading projection weights from ../models/word2vec_gensim_lemmas_12_07_2021\n",
      "2021-07-15 11:15:57 - KeyedVectors lifecycle event {'msg': 'loaded (95552, 200) matrix of type float32 from ../models/word2vec_gensim_lemmas_12_07_2021', 'binary': False, 'encoding': 'utf8', 'datetime': '2021-07-15T11:15:57.676654', 'gensim': '4.0.1', 'python': '3.6.8 (default, Aug 18 2020, 08:33:21) \\n[GCC 8.3.1 20191121 (Red Hat 8.3.1-5)]', 'platform': 'Linux-3.10.0-1160.31.1.el7.x86_64-x86_64-with-redhat-8.3-Ootpa', 'event': 'load_word2vec_format'}\n"
     ]
    }
   ],
   "source": [
    "dvect = DataVectorizer.load(str(MODEL_DIR), phrases_fn=\"phrases_gensim_lemmas_12_07_2021.pkl\",\n",
    "                           w2v_fn='word2vec_gensim_lemmas_12_07_2021')"
   ]
  },
  {
   "cell_type": "code",
   "execution_count": 146,
   "metadata": {},
   "outputs": [
    {
     "data": {
      "text/plain": [
       "95552"
      ]
     },
     "execution_count": 146,
     "metadata": {},
     "output_type": "execute_result"
    }
   ],
   "source": [
    "dvect._vocab_size"
   ]
  },
  {
   "cell_type": "code",
   "execution_count": 148,
   "metadata": {
    "scrolled": true
   },
   "outputs": [
    {
     "name": "stderr",
     "output_type": "stream",
     "text": [
      "100%|██████████| 1/1 [00:00<00:00, 4837.72it/s]"
     ]
    },
    {
     "name": "stdout",
     "output_type": "stream",
     "text": [
      "[[1, 2, 21, 10, 125]]\n",
      "['карта', 'мочь', 'перевод', 'сбербанк', 'онлайн']\n"
     ]
    },
    {
     "name": "stderr",
     "output_type": "stream",
     "text": [
      "\n"
     ]
    }
   ],
   "source": [
    "# print(dvect._w2v.index_to_key )\n",
    "# print(dvect._w2v.key_to_index)\n",
    "ids = dvect._word2id([['карта', 'мочь', 'перевод', 'сбербанк', 'онлайн']], 6)\n",
    "print(ids)\n",
    "words = dvect._id2word(ids[0], 0)\n",
    "print(words)"
   ]
  },
  {
   "cell_type": "code",
   "execution_count": null,
   "metadata": {
    "collapsed": true,
    "jupyter": {
     "outputs_hidden": true
    }
   },
   "outputs": [],
   "source": []
  },
  {
   "cell_type": "markdown",
   "metadata": {},
   "source": [
    "### Make datasets for training"
   ]
  },
  {
   "cell_type": "code",
   "execution_count": 31,
   "metadata": {
    "collapsed": true,
    "jupyter": {
     "outputs_hidden": true
    }
   },
   "outputs": [],
   "source": [
    "le = LabelEncoder().fit(train_df.label_name)\n",
    "train_df['label'] = le.transform(train_df.label_name)\n",
    "test_df['label'] = le.transform(test_df.label_name)\n",
    "val_df['label'] = le.transform(val_df.label_name)"
   ]
  },
  {
   "cell_type": "code",
   "execution_count": 32,
   "metadata": {
    "collapsed": true,
    "jupyter": {
     "outputs_hidden": true
    }
   },
   "outputs": [
    {
     "data": {
      "text/html": [
       "<div>\n",
       "<style scoped>\n",
       "    .dataframe tbody tr th:only-of-type {\n",
       "        vertical-align: middle;\n",
       "    }\n",
       "\n",
       "    .dataframe tbody tr th {\n",
       "        vertical-align: top;\n",
       "    }\n",
       "\n",
       "    .dataframe thead th {\n",
       "        text-align: right;\n",
       "    }\n",
       "</style>\n",
       "<table border=\"1\" class=\"dataframe\">\n",
       "  <thead>\n",
       "    <tr style=\"text-align: right;\">\n",
       "      <th></th>\n",
       "      <th>req_num</th>\n",
       "      <th>req_reg_datetime</th>\n",
       "      <th>msg</th>\n",
       "      <th>product</th>\n",
       "      <th>subject</th>\n",
       "      <th>s_subject</th>\n",
       "      <th>subproduct</th>\n",
       "      <th>client_msg_vector</th>\n",
       "      <th>vector_update_datetime</th>\n",
       "      <th>label_name</th>\n",
       "      <th>label</th>\n",
       "    </tr>\n",
       "  </thead>\n",
       "  <tbody>\n",
       "    <tr>\n",
       "      <th>323897</th>\n",
       "      <td>2101070164160500</td>\n",
       "      <td>2021-01-07 13:43:46</td>\n",
       "      <td>operator: #ФИО  здравствуйте operator:и вас с ...</td>\n",
       "      <td>Банковская карта</td>\n",
       "      <td>На карту Сбербанка</td>\n",
       "      <td>Комиссии, сроки, условия</td>\n",
       "      <td>Перевод (от ФЛ к ФЛ)</td>\n",
       "      <td>[284.0, 99.0, 284.0, 7.0, 17.0, 39.0, 3331.0, ...</td>\n",
       "      <td>12:50:28.455658</td>\n",
       "      <td>Банковская карта : Комиссии, сроки, условия</td>\n",
       "      <td>48</td>\n",
       "    </tr>\n",
       "    <tr>\n",
       "      <th>235754</th>\n",
       "      <td>2101040980953500</td>\n",
       "      <td>2021-01-04 10:39:27</td>\n",
       "      <td>operator:здравствуйте client:здравствуйте мне ...</td>\n",
       "      <td>Банковская карта</td>\n",
       "      <td>Предоставление информации</td>\n",
       "      <td>Статус БК/Порядок предоставления документов</td>\n",
       "      <td>Дебетовая карта</td>\n",
       "      <td>[1.0, 61.0, 236.0, 153.0, 656.0, 41070.0, 165....</td>\n",
       "      <td>12:50:28.455658</td>\n",
       "      <td>Банковская карта : Статус БК/Порядок предостав...</td>\n",
       "      <td>100</td>\n",
       "    </tr>\n",
       "    <tr>\n",
       "      <th>130254</th>\n",
       "      <td>2101010873607100</td>\n",
       "      <td>2021-01-01 20:16:22</td>\n",
       "      <td>operator: #ФИО  здравствуйте client:да здравст...</td>\n",
       "      <td>Сбербанк-Телеком</td>\n",
       "      <td>Приложение СберМобайл</td>\n",
       "      <td>Мобильное приложение 2.0</td>\n",
       "      <td>Сервисы самообслуживания</td>\n",
       "      <td>[55.0, 33.0, 88709.0, 212.0, 26.0, 301.0, 5063...</td>\n",
       "      <td>12:50:28.455658</td>\n",
       "      <td>Сбербанк-Телеком : Мобильное приложение 2.0</td>\n",
       "      <td>265</td>\n",
       "    </tr>\n",
       "    <tr>\n",
       "      <th>400153</th>\n",
       "      <td>2101030957747100</td>\n",
       "      <td>2021-01-03 18:43:33</td>\n",
       "      <td>operator:здравствуйте client:здравствуйте а пе...</td>\n",
       "      <td>Банковская карта</td>\n",
       "      <td>За рубеж. Для выплаты наличными</td>\n",
       "      <td>Комиссии, сроки, условия</td>\n",
       "      <td>Перевод (от ФЛ к ФЛ)</td>\n",
       "      <td>[21.0, 285.0, 481.0, 14.0, 186.0, 1.0, 9.0, 11...</td>\n",
       "      <td>12:50:28.455658</td>\n",
       "      <td>Банковская карта : Комиссии, сроки, условия</td>\n",
       "      <td>48</td>\n",
       "    </tr>\n",
       "    <tr>\n",
       "      <th>87447</th>\n",
       "      <td>2101060117331600</td>\n",
       "      <td>2021-01-06 14:56:50</td>\n",
       "      <td>operator:меня зовут  #ФИО  здравствуйте client...</td>\n",
       "      <td>Банковская карта</td>\n",
       "      <td>Отказ в проведении операции</td>\n",
       "      <td>55/75 – Неверный ПИН или превышено количество ...</td>\n",
       "      <td>Дебетовая карта</td>\n",
       "      <td>[555.0, 440.0, 63.0, 650.0, 26.0, 1643.0, 14.0...</td>\n",
       "      <td>12:50:28.455658</td>\n",
       "      <td>Банковская карта : 55/75 – Неверный ПИН или пр...</td>\n",
       "      <td>16</td>\n",
       "    </tr>\n",
       "  </tbody>\n",
       "</table>\n",
       "</div>"
      ],
      "text/plain": [
       "                 req_num    req_reg_datetime  \\\n",
       "323897  2101070164160500 2021-01-07 13:43:46   \n",
       "235754  2101040980953500 2021-01-04 10:39:27   \n",
       "130254  2101010873607100 2021-01-01 20:16:22   \n",
       "400153  2101030957747100 2021-01-03 18:43:33   \n",
       "87447   2101060117331600 2021-01-06 14:56:50   \n",
       "\n",
       "                                                      msg           product  \\\n",
       "323897  operator: #ФИО  здравствуйте operator:и вас с ...  Банковская карта   \n",
       "235754  operator:здравствуйте client:здравствуйте мне ...  Банковская карта   \n",
       "130254  operator: #ФИО  здравствуйте client:да здравст...  Сбербанк-Телеком   \n",
       "400153  operator:здравствуйте client:здравствуйте а пе...  Банковская карта   \n",
       "87447   operator:меня зовут  #ФИО  здравствуйте client...  Банковская карта   \n",
       "\n",
       "                                subject  \\\n",
       "323897               На карту Сбербанка   \n",
       "235754        Предоставление информации   \n",
       "130254            Приложение СберМобайл   \n",
       "400153  За рубеж. Для выплаты наличными   \n",
       "87447       Отказ в проведении операции   \n",
       "\n",
       "                                                s_subject  \\\n",
       "323897                           Комиссии, сроки, условия   \n",
       "235754        Статус БК/Порядок предоставления документов   \n",
       "130254                           Мобильное приложение 2.0   \n",
       "400153                           Комиссии, сроки, условия   \n",
       "87447   55/75 – Неверный ПИН или превышено количество ...   \n",
       "\n",
       "                      subproduct  \\\n",
       "323897      Перевод (от ФЛ к ФЛ)   \n",
       "235754           Дебетовая карта   \n",
       "130254  Сервисы самообслуживания   \n",
       "400153      Перевод (от ФЛ к ФЛ)   \n",
       "87447            Дебетовая карта   \n",
       "\n",
       "                                        client_msg_vector  \\\n",
       "323897  [284.0, 99.0, 284.0, 7.0, 17.0, 39.0, 3331.0, ...   \n",
       "235754  [1.0, 61.0, 236.0, 153.0, 656.0, 41070.0, 165....   \n",
       "130254  [55.0, 33.0, 88709.0, 212.0, 26.0, 301.0, 5063...   \n",
       "400153  [21.0, 285.0, 481.0, 14.0, 186.0, 1.0, 9.0, 11...   \n",
       "87447   [555.0, 440.0, 63.0, 650.0, 26.0, 1643.0, 14.0...   \n",
       "\n",
       "       vector_update_datetime  \\\n",
       "323897        12:50:28.455658   \n",
       "235754        12:50:28.455658   \n",
       "130254        12:50:28.455658   \n",
       "400153        12:50:28.455658   \n",
       "87447         12:50:28.455658   \n",
       "\n",
       "                                               label_name  label  \n",
       "323897        Банковская карта : Комиссии, сроки, условия     48  \n",
       "235754  Банковская карта : Статус БК/Порядок предостав...    100  \n",
       "130254        Сбербанк-Телеком : Мобильное приложение 2.0    265  \n",
       "400153        Банковская карта : Комиссии, сроки, условия     48  \n",
       "87447   Банковская карта : 55/75 – Неверный ПИН или пр...     16  "
      ]
     },
     "execution_count": 32,
     "metadata": {},
     "output_type": "execute_result"
    }
   ],
   "source": [
    "train_df.head()"
   ]
  },
  {
   "cell_type": "code",
   "execution_count": 33,
   "metadata": {
    "collapsed": true,
    "jupyter": {
     "outputs_hidden": true
    }
   },
   "outputs": [],
   "source": [
    "train_labels = train_df['label'].values\n",
    "test_labels = test_df['label'].values\n",
    "val_labels = val_df['label'].values\n",
    "\n",
    "train_vectors = pad_sequences(train_df['client_msg_vector'].to_list(), value=0, maxlen=150, padding='post', truncating='post')\n",
    "test_vectors = pad_sequences(test_df['client_msg_vector'].to_list(), value=0, maxlen=150, padding='post', truncating='post')\n",
    "val_vectors = pad_sequences(val_df['client_msg_vector'].to_list(), value=0, maxlen=150, padding='post', truncating='post')\n",
    "\n",
    "train_indexes = [i for i, vec in enumerate(train_vectors) if np.count_nonzero(vec) > 19]\n",
    "test_indexes = [i for i, vec in enumerate(test_vectors) if np.count_nonzero(vec) > 19]\n",
    "val_indexes = [i for i, vec in enumerate(val_vectors) if np.count_nonzero(vec) > 19]\n",
    "\n",
    "train_vectors, train_labels = train_vectors[train_indexes], train_labels[train_indexes]\n",
    "test_vectors, test_labels = test_vectors[test_indexes], test_labels[test_indexes]\n",
    "val_vectors, val_labels = val_vectors[val_indexes], val_labels[val_indexes]\n",
    "\n",
    "train_vectors = np.vstack(train_vectors)\n",
    "test_vectors = np.vstack(test_vectors)\n",
    "val_vectors = np.vstack(val_vectors)"
   ]
  },
  {
   "cell_type": "code",
   "execution_count": 34,
   "metadata": {
    "collapsed": true,
    "jupyter": {
     "outputs_hidden": true
    }
   },
   "outputs": [
    {
     "data": {
      "text/plain": [
       "(313821, 150)"
      ]
     },
     "execution_count": 34,
     "metadata": {},
     "output_type": "execute_result"
    }
   ],
   "source": [
    "train_vectors.shape"
   ]
  },
  {
   "cell_type": "code",
   "execution_count": null,
   "metadata": {
    "collapsed": true,
    "jupyter": {
     "outputs_hidden": true
    }
   },
   "outputs": [],
   "source": []
  },
  {
   "cell_type": "markdown",
   "metadata": {
    "id": "m55auCIyKBcz"
   },
   "source": [
    "## Model utilities"
   ]
  },
  {
   "cell_type": "code",
   "execution_count": 35,
   "metadata": {
    "collapsed": true,
    "id": "MPNWPvzZKBcz",
    "jupyter": {
     "outputs_hidden": true
    }
   },
   "outputs": [],
   "source": [
    "def adj_rand_score(labels, embeddings):\n",
    "    linkage_matrix = linkage(embeddings, metric='cosine', method='average')\n",
    "    clusters = [i[0] for i in cut_tree(linkage_matrix, n_clusters=[labels.shape[1]])]\n",
    "    return adjusted_rand_score(clusters, np.argmax(labels, axis=1))\n",
    "\n",
    "def word2idx(word):\n",
    "    return word2vec_model.wv.vocab[word].index + 1\n",
    "\n",
    "def idx2word(idx):\n",
    "    return word2vec_model.wv.index2word[idx-1]"
   ]
  },
  {
   "cell_type": "markdown",
   "metadata": {
    "id": "S2Zn-zXbKBcz"
   },
   "source": [
    "## Loss functions"
   ]
  },
  {
   "cell_type": "markdown",
   "metadata": {
    "id": "I_71z61YKBc4"
   },
   "source": [
    "## Model architecture"
   ]
  },
  {
   "cell_type": "code",
   "execution_count": 36,
   "metadata": {
    "collapsed": true,
    "jupyter": {
     "outputs_hidden": true
    }
   },
   "outputs": [],
   "source": [
    "class NNModel():\n",
    "    \n",
    "    def __init__(self, pretrained_weights: np.ndarray, input_length: int,\n",
    "                 n_hidden_units: int, out_dims: int, vocab_size: int, \n",
    "                 embedding_size: int=300, dropout: float=0.5, \n",
    "                 pretrained=False, model_weights_path='./model.hdf5'):\n",
    "        \n",
    "        self.input_length = input_length\n",
    "        self.pretrained_weights = pretrained_weights\n",
    "        self.vocab_size = vocab_size\n",
    "        self.embedding_size = embedding_size\n",
    "        self.n_hidden_units = n_hidden_units\n",
    "        self.out_dims = out_dims\n",
    "        self.dropout = dropout\n",
    "        self.model, self.attention_model = self.create_network()\n",
    "        if pretrained:\n",
    "            self.load_pretrained(model_weights_path)\n",
    "        \n",
    "    def create_network(self):\n",
    "        input_layer = Input((self.input_length,))\n",
    "        embeddings = Embedding(input_dim=self.vocab_size + 1, output_dim=self.embedding_size,\n",
    "                                    weights=[np.vstack((np.zeros((1, self.embedding_size), dtype=np.float32), \n",
    "                                                        self.pretrained_weights))],\n",
    "                                    input_length=self.input_length, mask_zero=True, trainable=True)(input_layer)\n",
    "        # Return [batch_size x n_timesteps x n_hidden_units]\n",
    "        lstm = LSTM(self.n_hidden_units, dropout=self.dropout, return_sequences=True)(embeddings)\n",
    "        lstm = BatchNormalization()(lstm)\n",
    "        # Attention block\n",
    "        # Returns single value for each timestamp\n",
    "        attention = TimeDistributed(Dense(1))(lstm)\n",
    "        softmax_attention = Softmax(axis=1)(attention)\n",
    "        apply_attention = Multiply()([softmax_attention, lstm])\n",
    "        avg_pooling = GlobalAveragePooling1D()(apply_attention)\n",
    "#         max_pooling = GlobalMaxPooling1D()(apply_attention)\n",
    "#         c = Concatenate()([avg_pooling, max_pooling])\n",
    "#         c = BatchNormalization()(c)\n",
    "        dense = Dense(self.out_dims, activation=None)(avg_pooling)\n",
    "        output_layer = Lambda(lambda x: tf.math.l2_normalize(x, axis=1))(dense)\n",
    "        att_model = Model(input_layer, [output_layer, softmax_attention])\n",
    "        model = Model(input_layer, output_layer)\n",
    "        return model, att_model\n",
    "        \n",
    "        \n",
    "    def load_pretrained(self, model_weights_path: str):\n",
    "        self.model.load_weights(model_weights_path)"
   ]
  },
  {
   "cell_type": "code",
   "execution_count": 37,
   "metadata": {
    "collapsed": true,
    "jupyter": {
     "outputs_hidden": true
    }
   },
   "outputs": [
    {
     "name": "stdout",
     "output_type": "stream",
     "text": [
      "Model: \"functional_1\"\n",
      "__________________________________________________________________________________________________\n",
      "Layer (type)                    Output Shape         Param #     Connected to                     \n",
      "==================================================================================================\n",
      "input_1 (InputLayer)            [(None, 150)]        0                                            \n",
      "__________________________________________________________________________________________________\n",
      "embedding (Embedding)           (None, 150, 200)     19110600    input_1[0][0]                    \n",
      "__________________________________________________________________________________________________\n",
      "lstm (LSTM)                     (None, 150, 128)     168448      embedding[0][0]                  \n",
      "__________________________________________________________________________________________________\n",
      "batch_normalization (BatchNorma (None, 150, 128)     512         lstm[0][0]                       \n",
      "__________________________________________________________________________________________________\n",
      "time_distributed (TimeDistribut (None, 150, 1)       129         batch_normalization[0][0]        \n",
      "__________________________________________________________________________________________________\n",
      "softmax (Softmax)               (None, 150, 1)       0           time_distributed[0][0]           \n",
      "__________________________________________________________________________________________________\n",
      "multiply (Multiply)             (None, 150, 128)     0           softmax[0][0]                    \n",
      "                                                                 batch_normalization[0][0]        \n",
      "__________________________________________________________________________________________________\n",
      "global_average_pooling1d (Globa (None, 128)          0           multiply[0][0]                   \n",
      "__________________________________________________________________________________________________\n",
      "dense_1 (Dense)                 (None, 50)           6450        global_average_pooling1d[0][0]   \n",
      "__________________________________________________________________________________________________\n",
      "lambda (Lambda)                 (None, 50)           0           dense_1[0][0]                    \n",
      "==================================================================================================\n",
      "Total params: 19,286,139\n",
      "Trainable params: 19,285,883\n",
      "Non-trainable params: 256\n",
      "__________________________________________________________________________________________________\n"
     ]
    }
   ],
   "source": [
    "model = NNModel(pretrained_weights=dvect.get_vectors(), input_length=150,\n",
    "                n_hidden_units=128, out_dims=50, vocab_size=dvect._vocab_size, \n",
    "                embedding_size=dvect._embedding_size, dropout=0.6, \n",
    "                pretrained=False, model_weights_path=str(MODEL_DIR / \"attention_lstm_50dim_13-07.h5\"))\n",
    "\n",
    "model.attention_model.summary()"
   ]
  },
  {
   "cell_type": "markdown",
   "metadata": {
    "id": "l_gm3QQAKBc8"
   },
   "source": [
    "# Train"
   ]
  },
  {
   "cell_type": "code",
   "execution_count": 38,
   "metadata": {
    "collapsed": true,
    "jupyter": {
     "outputs_hidden": true
    }
   },
   "outputs": [
    {
     "data": {
      "text/plain": [
       "PosixPath('../models/chkp_dir')"
      ]
     },
     "execution_count": 38,
     "metadata": {},
     "output_type": "execute_result"
    }
   ],
   "source": [
    "CHKP_DIR"
   ]
  },
  {
   "cell_type": "code",
   "execution_count": 39,
   "metadata": {
    "collapsed": true,
    "jupyter": {
     "outputs_hidden": true
    }
   },
   "outputs": [
    {
     "data": {
      "text/plain": [
       "True"
      ]
     },
     "execution_count": 39,
     "metadata": {},
     "output_type": "execute_result"
    }
   ],
   "source": [
    "os.path.exists(str(CHKP_DIR))"
   ]
  },
  {
   "cell_type": "code",
   "execution_count": 40,
   "metadata": {
    "colab": {
     "base_uri": "https://localhost:8080/"
    },
    "collapsed": true,
    "id": "wz2bnWn-KBc9",
    "jupyter": {
     "outputs_hidden": true
    },
    "outputId": "f516273b-615e-4bf4-b282-b59469ec4594",
    "scrolled": true
   },
   "outputs": [
    {
     "name": "stdout",
     "output_type": "stream",
     "text": [
      "Model: \"functional_1\"\n",
      "__________________________________________________________________________________________________\n",
      "Layer (type)                    Output Shape         Param #     Connected to                     \n",
      "==================================================================================================\n",
      "input_1 (InputLayer)            [(None, 150)]        0                                            \n",
      "__________________________________________________________________________________________________\n",
      "embedding (Embedding)           (None, 150, 200)     19110600    input_1[0][0]                    \n",
      "__________________________________________________________________________________________________\n",
      "lstm (LSTM)                     (None, 150, 128)     168448      embedding[0][0]                  \n",
      "__________________________________________________________________________________________________\n",
      "batch_normalization (BatchNorma (None, 150, 128)     512         lstm[0][0]                       \n",
      "__________________________________________________________________________________________________\n",
      "time_distributed (TimeDistribut (None, 150, 1)       129         batch_normalization[0][0]        \n",
      "__________________________________________________________________________________________________\n",
      "softmax (Softmax)               (None, 150, 1)       0           time_distributed[0][0]           \n",
      "__________________________________________________________________________________________________\n",
      "multiply (Multiply)             (None, 150, 128)     0           softmax[0][0]                    \n",
      "                                                                 batch_normalization[0][0]        \n",
      "__________________________________________________________________________________________________\n",
      "global_average_pooling1d (Globa (None, 128)          0           multiply[0][0]                   \n",
      "__________________________________________________________________________________________________\n",
      "dense_1 (Dense)                 (None, 50)           6450        global_average_pooling1d[0][0]   \n",
      "__________________________________________________________________________________________________\n",
      "lambda (Lambda)                 (None, 50)           0           dense_1[0][0]                    \n",
      "==================================================================================================\n",
      "Total params: 19,286,139\n",
      "Trainable params: 19,285,883\n",
      "Non-trainable params: 256\n",
      "__________________________________________________________________________________________________\n"
     ]
    }
   ],
   "source": [
    "n_epochs = 50\n",
    "patience = 3\n",
    "batch_size = 128\n",
    "\n",
    "!rm -rf ../models/chkp_dir/*\n",
    "log_dir = \"logs/fit/\" + datetime.datetime.now().strftime(\"%Y%m%d-%H%M%S\")\n",
    "\n",
    "callbacks = [EarlyStopping(patience=patience, monitor='val_loss'),\n",
    "            tf.keras.callbacks.ModelCheckpoint(filepath=str(CHKP_DIR / \"checkpoint-{epoch}.h5\"),\n",
    "                save_weights_only=False,\n",
    "                monitor='val_loss', mode='min',\n",
    "                save_best_only=True),\n",
    "            tf.keras.callbacks.TensorBoard(log_dir=log_dir, histogram_freq=1)]\n",
    "\n",
    "tclr = tfa.optimizers.Triangular2CyclicalLearningRate(\n",
    "    initial_learning_rate=1e-4,\n",
    "    maximal_learning_rate=1e-2,\n",
    "    step_size=8 * int(len(train_df) / batch_size),\n",
    "    scale_mode='cycle',\n",
    "    name='TriangularCyclicalLearningRate'\n",
    ")\n",
    "with tf.device('GPU:0'):\n",
    "    # lr_schedule = schedules.ExponentialDecay(initial_learning_rate=1.0e-3, decay_steps=5, decay_rate=0.3)\n",
    "    model.model.compile(optimizer=Adam(learning_rate=tclr), loss=tfa.losses.TripletSemiHardLoss(margin=1.0))\n",
    "    model.attention_model.summary()"
   ]
  },
  {
   "cell_type": "code",
   "execution_count": 41,
   "metadata": {
    "collapsed": true,
    "jupyter": {
     "outputs_hidden": true
    }
   },
   "outputs": [
    {
     "name": "stdout",
     "output_type": "stream",
     "text": [
      "Epoch 1/50\n",
      "   1/2452 [..............................] - ETA: 0s - loss: 0.9935WARNING:tensorflow:From /opt/app-root/lib/python3.6/site-packages/tensorflow/python/ops/summary_ops_v2.py:1277: stop (from tensorflow.python.eager.profiler) is deprecated and will be removed after 2020-07-01.\n",
      "Instructions for updating:\n",
      "use `tf.profiler.experimental.stop` instead.\n"
     ]
    },
    {
     "name": "stderr",
     "output_type": "stream",
     "text": [
      "2021-07-15 07:06:22 - From /opt/app-root/lib/python3.6/site-packages/tensorflow/python/ops/summary_ops_v2.py:1277: stop (from tensorflow.python.eager.profiler) is deprecated and will be removed after 2020-07-01.\n",
      "Instructions for updating:\n",
      "use `tf.profiler.experimental.stop` instead.\n"
     ]
    },
    {
     "name": "stdout",
     "output_type": "stream",
     "text": [
      "2452/2452 [==============================] - 302s 123ms/step - loss: 0.9470 - val_loss: 0.9074\n",
      "Epoch 2/50\n",
      "2452/2452 [==============================] - 298s 121ms/step - loss: 0.9079 - val_loss: 0.8873\n",
      "Epoch 3/50\n",
      "2452/2452 [==============================] - 294s 120ms/step - loss: 0.8933 - val_loss: 0.8845\n",
      "Epoch 4/50\n",
      "2452/2452 [==============================] - 292s 119ms/step - loss: 0.8882 - val_loss: 0.8819\n",
      "Epoch 5/50\n",
      "2452/2452 [==============================] - 293s 119ms/step - loss: 0.8861 - val_loss: 0.8832\n",
      "Epoch 6/50\n",
      "2452/2452 [==============================] - 292s 119ms/step - loss: 0.8877 - val_loss: 0.8867\n",
      "Epoch 7/50\n",
      "2452/2452 [==============================] - 292s 119ms/step - loss: 0.8950 - val_loss: 0.8963\n"
     ]
    }
   ],
   "source": [
    "with tf.device('GPU:0'):\n",
    "    history = model.model.fit(x=train_vectors, y=train_labels, validation_data=(val_vectors, val_labels),\n",
    "                        epochs=n_epochs, verbose=1, workers=1, batch_size=batch_size, callbacks=callbacks)"
   ]
  },
  {
   "cell_type": "code",
   "execution_count": 42,
   "metadata": {
    "collapsed": true,
    "jupyter": {
     "outputs_hidden": true
    }
   },
   "outputs": [
    {
     "name": "stdout",
     "output_type": "stream",
     "text": [
      "dict_keys(['loss', 'val_loss'])\n",
      "7\n"
     ]
    }
   ],
   "source": [
    "# list all data in history\n",
    "print(history.history.keys())\n",
    "history_df = pd.DataFrame(history.history)\n",
    "print(history_df.shape[0])"
   ]
  },
  {
   "cell_type": "code",
   "execution_count": 43,
   "metadata": {
    "collapsed": true,
    "jupyter": {
     "outputs_hidden": true
    }
   },
   "outputs": [
    {
     "data": {
      "image/png": "[encoded data removed]",
      "text/plain": [
       "<Figure size 432x288 with 1 Axes>"
      ]
     },
     "metadata": {},
     "output_type": "display_data"
    }
   ],
   "source": [
    "g = sns.lineplot(data=history_df)\n",
    "plt.title('model loss')\n",
    "plt.ylabel('loss')\n",
    "plt.xlabel('epoch')\n",
    "plt.legend(['train', 'test'], loc='upper left')\n",
    "plt.show()"
   ]
  },
  {
   "cell_type": "code",
   "execution_count": 44,
   "metadata": {
    "collapsed": true,
    "jupyter": {
     "outputs_hidden": true
    }
   },
   "outputs": [],
   "source": [
    "model.model.save(str(MODEL_DIR / \"lstm_50dim_15-07.h5\"))"
   ]
  },
  {
   "cell_type": "code",
   "execution_count": 45,
   "metadata": {
    "collapsed": true,
    "jupyter": {
     "outputs_hidden": true
    }
   },
   "outputs": [],
   "source": [
    "model.attention_model.save(str(MODEL_DIR / \"attention_lstm_50dim_15-07.h5\"))"
   ]
  },
  {
   "cell_type": "markdown",
   "metadata": {
    "id": "33tYKM8A-9fm"
   },
   "source": [
    "## Test model"
   ]
  },
  {
   "cell_type": "code",
   "execution_count": 46,
   "metadata": {
    "collapsed": true,
    "jupyter": {
     "outputs_hidden": true
    }
   },
   "outputs": [],
   "source": [
    "with tf.device('GPU:0'):\n",
    "    train_embeddings = model.model.predict(train_vectors)\n",
    "    test_embeddings = model.model.predict(test_vectors)"
   ]
  },
  {
   "cell_type": "code",
   "execution_count": 47,
   "metadata": {
    "collapsed": true,
    "jupyter": {
     "outputs_hidden": true
    }
   },
   "outputs": [
    {
     "data": {
      "text/plain": [
       "(80724, 50)"
      ]
     },
     "execution_count": 47,
     "metadata": {},
     "output_type": "execute_result"
    }
   ],
   "source": [
    "test_embeddings.shape"
   ]
  },
  {
   "cell_type": "code",
   "execution_count": 55,
   "metadata": {
    "collapsed": true,
    "jupyter": {
     "outputs_hidden": true
    }
   },
   "outputs": [],
   "source": [
    "with tf.device('CPU:0'):\n",
    "    train_embeddings, train_attentions = model.attention_model.predict(train_vectors)\n",
    "    test_embeddings, test_attentions = model.attention_model.predict(test_vectors)"
   ]
  },
  {
   "cell_type": "code",
   "execution_count": 56,
   "metadata": {
    "collapsed": true,
    "jupyter": {
     "outputs_hidden": true
    }
   },
   "outputs": [
    {
     "data": {
      "text/plain": [
       "(80724, 150, 1)"
      ]
     },
     "execution_count": 56,
     "metadata": {},
     "output_type": "execute_result"
    }
   ],
   "source": [
    "test_attentions.shape"
   ]
  },
  {
   "cell_type": "code",
   "execution_count": 57,
   "metadata": {
    "collapsed": true,
    "jupyter": {
     "outputs_hidden": true
    }
   },
   "outputs": [
    {
     "data": {
      "text/plain": [
       "(80724, 50)"
      ]
     },
     "execution_count": 57,
     "metadata": {},
     "output_type": "execute_result"
    }
   ],
   "source": [
    "test_embeddings.shape"
   ]
  },
  {
   "cell_type": "markdown",
   "metadata": {},
   "source": [
    "### Clusterize"
   ]
  },
  {
   "cell_type": "code",
   "execution_count": 46,
   "metadata": {
    "collapsed": true,
    "jupyter": {
     "outputs_hidden": true
    }
   },
   "outputs": [],
   "source": [
    "from sklearn.cluster import AgglomerativeClustering\n",
    "from sklearn.metrics import adjusted_rand_score"
   ]
  },
  {
   "cell_type": "code",
   "execution_count": 52,
   "metadata": {
    "collapsed": true,
    "id": "dEmIwVZUFU3l",
    "jupyter": {
     "outputs_hidden": true
    }
   },
   "outputs": [
    {
     "name": "stdout",
     "output_type": "stream",
     "text": [
      "Initial test shape:  81430\n",
      "Vectors: (8143, 50)\n"
     ]
    }
   ],
   "source": [
    "ratio = 0.1\n",
    "print(\"Initial test shape: \", test_labels.shape[0])\n",
    "clustering_vectors = test_embeddings[:int(test_embeddings.shape[0] * ratio)]\n",
    "clustering_true_labels = test_labels[:int(test_labels.shape[0] * ratio)]\n",
    "print(\"Vectors:\", clustering_vectors.shape)"
   ]
  },
  {
   "cell_type": "code",
   "execution_count": 53,
   "metadata": {
    "collapsed": true,
    "jupyter": {
     "outputs_hidden": true
    }
   },
   "outputs": [
    {
     "name": "stdout",
     "output_type": "stream",
     "text": [
      "CPU times: user 2.74 s, sys: 258 ms, total: 3 s\n",
      "Wall time: 3 s\n"
     ]
    }
   ],
   "source": [
    "%%time\n",
    "agg_cl = AgglomerativeClustering(affinity='euclidean', linkage='complete')\n",
    "clusers_labels = agg_cl.fit_predict(clustering_vectors)"
   ]
  },
  {
   "cell_type": "code",
   "execution_count": 55,
   "metadata": {
    "collapsed": true,
    "jupyter": {
     "outputs_hidden": true
    }
   },
   "outputs": [
    {
     "data": {
      "text/plain": [
       "0.007703830233353039"
      ]
     },
     "execution_count": 55,
     "metadata": {},
     "output_type": "execute_result"
    }
   ],
   "source": [
    "adjusted_rand_score(clusers_labels, clustering_true_labels)"
   ]
  },
  {
   "cell_type": "markdown",
   "metadata": {},
   "source": [
    "### Classify"
   ]
  },
  {
   "cell_type": "code",
   "execution_count": 49,
   "metadata": {
    "collapsed": true,
    "jupyter": {
     "outputs_hidden": true
    }
   },
   "outputs": [],
   "source": [
    "def compute_metrics(true_labels: List[int], \n",
    "                    pred_labels: List[int], \n",
    "                    labels: Optional[Union[str, int]]=None):\n",
    "    \n",
    "    print(\"***** Eval results {} *****\")\n",
    "    \n",
    "    ac = accuracy_score(true_labels, pred_labels)\n",
    "    bac = balanced_accuracy_score(true_labels, pred_labels)\n",
    "\n",
    "    print('Accuracy score:', ac)\n",
    "    print('Balanced_accuracy_score:', bac)\n",
    "    if labels:\n",
    "        print(classification_report(true_labels, pred_labels, labels=labels))\n",
    "    else:\n",
    "        print(classification_report(true_labels, pred_labels))"
   ]
  },
  {
   "cell_type": "code",
   "execution_count": 50,
   "metadata": {
    "collapsed": true,
    "jupyter": {
     "outputs_hidden": true
    }
   },
   "outputs": [],
   "source": [
    "n_neighbors = 5\n",
    "metric_name = 'cosine'\n",
    "\n",
    "knn = KNeighborsClassifier(n_neighbors=n_neighbors, metric=metric_name, weights='distance')\n",
    "knn = knn.fit(train_embeddings, train_labels)"
   ]
  },
  {
   "cell_type": "code",
   "execution_count": 51,
   "metadata": {
    "collapsed": true,
    "jupyter": {
     "outputs_hidden": true
    },
    "scrolled": true
   },
   "outputs": [
    {
     "name": "stdout",
     "output_type": "stream",
     "text": [
      "***** Eval results {} *****\n",
      "Accuracy score: 0.49718794906099795\n",
      "Balanced_accuracy_score: 0.14548638076899115\n",
      "              precision    recall  f1-score   support\n",
      "\n",
      "           0       0.00      0.00      0.00        16\n",
      "           1       0.29      0.30      0.30       415\n",
      "           2       0.50      0.10      0.17        10\n",
      "           3       0.17      0.08      0.11        13\n",
      "           4       0.11      0.07      0.08        92\n",
      "           5       0.22      0.16      0.19        98\n",
      "           6       0.12      0.08      0.10       118\n",
      "           7       0.00      0.00      0.00        11\n",
      "           8       0.43      0.50      0.46       441\n",
      "           9       0.19      0.14      0.16       139\n",
      "          10       0.00      0.00      0.00        11\n",
      "          11       0.00      0.00      0.00        17\n",
      "          12       0.34      0.11      0.17       106\n",
      "          13       1.00      0.10      0.18        10\n",
      "          14       0.00      0.00      0.00        39\n",
      "          15       0.20      0.06      0.09       117\n",
      "          16       0.09      0.05      0.07        76\n",
      "          17       0.04      0.01      0.02        71\n",
      "          18       0.05      0.01      0.02        77\n",
      "          19       0.65      0.83      0.73       139\n",
      "          20       0.54      0.71      0.61       650\n",
      "          21       0.08      0.06      0.07        17\n",
      "          22       0.58      0.73      0.65      1708\n",
      "          23       0.30      0.30      0.30       682\n",
      "          24       0.59      0.67      0.63      8853\n",
      "          25       0.00      0.00      0.00        20\n",
      "          26       0.04      0.01      0.02       359\n",
      "          27       0.00      0.00      0.00        31\n",
      "          28       0.00      0.00      0.00        22\n",
      "          29       0.26      0.21      0.23       121\n",
      "          30       0.18      0.09      0.12       164\n",
      "          31       0.81      0.85      0.83       773\n",
      "          32       0.42      0.52      0.46      2915\n",
      "          33       0.00      0.00      0.00       178\n",
      "          34       0.10      0.03      0.05       234\n",
      "          35       0.08      0.03      0.05        29\n",
      "          36       0.27      0.14      0.18       191\n",
      "          37       0.06      0.02      0.03        55\n",
      "          38       0.25      0.14      0.18        14\n",
      "          39       0.45      0.33      0.38        40\n",
      "          40       0.76      0.86      0.81       876\n",
      "          41       0.00      0.00      0.00        12\n",
      "          42       0.07      0.02      0.03        49\n",
      "          43       0.45      0.63      0.52       556\n",
      "          44       0.67      0.56      0.61       299\n",
      "          45       0.50      0.60      0.55      1194\n",
      "          46       0.23      0.13      0.17        61\n",
      "          47       0.00      0.00      0.00        12\n",
      "          48       0.56      0.67      0.61      6640\n",
      "          49       0.08      0.03      0.04        66\n",
      "          50       0.63      0.74      0.68      2388\n",
      "          51       0.18      0.07      0.10       138\n",
      "          52       0.00      0.00      0.00       107\n",
      "          53       0.32      0.15      0.21       145\n",
      "          54       0.03      0.02      0.03        49\n",
      "          55       0.11      0.07      0.08        74\n",
      "          56       0.00      0.00      0.00        11\n",
      "          57       0.06      0.01      0.02        79\n",
      "          58       0.20      0.10      0.13        31\n",
      "          59       0.00      0.00      0.00        33\n",
      "          60       0.00      0.00      0.00         9\n",
      "          61       0.00      0.00      0.00        44\n",
      "          62       0.00      0.00      0.00        39\n",
      "          63       0.00      0.00      0.00        19\n",
      "          64       0.12      0.06      0.08        16\n",
      "          65       0.68      0.67      0.67       249\n",
      "          66       0.00      0.00      0.00        13\n",
      "          67       0.00      0.00      0.00        57\n",
      "          68       0.32      0.27      0.29        79\n",
      "          69       0.23      0.17      0.20       695\n",
      "          70       0.26      0.19      0.22       844\n",
      "          71       0.29      0.29      0.29      1423\n",
      "          72       0.71      0.76      0.74      1375\n",
      "          73       0.00      0.00      0.00        26\n",
      "          74       0.00      0.00      0.00        13\n",
      "          75       0.00      0.00      0.00        40\n",
      "          76       0.03      0.01      0.02       103\n",
      "          77       0.21      0.07      0.11       110\n",
      "          78       0.00      0.00      0.00       113\n",
      "          79       0.11      0.06      0.08        52\n",
      "          80       0.00      0.00      0.00        53\n",
      "          81       0.03      0.01      0.01       203\n",
      "          82       0.25      0.11      0.15        19\n",
      "          83       0.33      0.20      0.25        69\n",
      "          84       0.29      0.16      0.21       172\n",
      "          85       0.00      0.00      0.00        14\n",
      "          86       0.24      0.16      0.19       107\n",
      "          87       0.03      0.01      0.02       348\n",
      "          88       0.00      0.00      0.00        22\n",
      "          89       0.20      0.07      0.10       123\n",
      "          90       0.03      0.01      0.01       227\n",
      "          91       0.66      0.70      0.68      2007\n",
      "          92       0.06      0.02      0.03        52\n",
      "          93       0.03      0.02      0.02        57\n",
      "          94       0.00      0.00      0.00        12\n",
      "          95       0.26      0.09      0.13        58\n",
      "          96       0.46      0.51      0.49      2184\n",
      "          97       0.27      0.11      0.16        27\n",
      "          98       0.00      0.00      0.00        10\n",
      "          99       0.21      0.15      0.18       242\n",
      "         100       0.35      0.29      0.32      1746\n",
      "         101       0.65      0.66      0.66      1199\n",
      "         102       0.26      0.16      0.20        44\n",
      "         103       0.14      0.08      0.10        38\n",
      "         104       0.11      0.10      0.10       104\n",
      "         105       0.05      0.03      0.04        68\n",
      "         106       0.42      0.47      0.45      3530\n",
      "         107       0.00      0.00      0.00        40\n",
      "         108       0.21      0.13      0.16       170\n",
      "         109       0.07      0.03      0.04       112\n",
      "         110       0.41      0.46      0.44       213\n",
      "         111       0.56      0.53      0.55      1365\n",
      "         112       0.00      0.00      0.00        11\n",
      "         113       0.00      0.00      0.00        28\n",
      "         114       0.22      0.07      0.11        28\n",
      "         115       0.07      0.02      0.04       121\n",
      "         116       0.16      0.08      0.11        59\n",
      "         117       0.00      0.00      0.00        39\n",
      "         118       0.81      0.84      0.83      1257\n",
      "         119       0.00      0.00      0.00        14\n",
      "         120       0.00      0.00      0.00        13\n",
      "         121       0.67      0.12      0.21        16\n",
      "         122       0.31      0.33      0.32        39\n",
      "         123       0.33      0.05      0.09        19\n",
      "         124       0.00      0.00      0.00        14\n",
      "         125       0.00      0.00      0.00        27\n",
      "         126       0.25      0.15      0.19        13\n",
      "         127       0.59      0.74      0.66       904\n",
      "         128       0.21      0.08      0.12        38\n",
      "         129       0.16      0.05      0.08       112\n",
      "         130       0.00      0.00      0.00        15\n",
      "         131       0.00      0.00      0.00        20\n",
      "         132       0.00      0.00      0.00        10\n",
      "         133       0.32      0.20      0.24       525\n",
      "         134       0.00      0.00      0.00        19\n",
      "         135       0.05      0.04      0.05        23\n",
      "         136       0.05      0.04      0.04        27\n",
      "         137       0.13      0.11      0.12        55\n",
      "         138       0.19      0.30      0.23        71\n",
      "         139       0.22      0.27      0.24       160\n",
      "         140       0.00      0.00      0.00        19\n",
      "         141       0.00      0.00      0.00        10\n",
      "         142       0.07      0.05      0.06        21\n",
      "         143       0.00      0.00      0.00        15\n",
      "         144       0.00      0.00      0.00        15\n",
      "         145       0.00      0.00      0.00        40\n",
      "         146       0.22      0.24      0.23       115\n",
      "         147       0.25      0.12      0.16        17\n",
      "         148       0.18      0.14      0.16        43\n",
      "         149       0.00      0.00      0.00        20\n",
      "         150       0.00      0.00      0.00         9\n",
      "         151       0.28      0.19      0.23       181\n",
      "         152       0.20      0.12      0.15       104\n",
      "         153       0.14      0.04      0.06        25\n",
      "         154       0.20      0.24      0.21        34\n",
      "         155       0.64      0.76      0.69      1490\n",
      "         156       0.14      0.06      0.08        36\n",
      "         157       0.07      0.05      0.06        19\n",
      "         158       0.06      0.05      0.05        22\n",
      "         159       0.15      0.07      0.10        28\n",
      "         160       0.20      0.11      0.14       112\n",
      "         161       0.43      0.64      0.52       563\n",
      "         162       0.20      0.21      0.21        80\n",
      "         163       0.16      0.13      0.14        38\n",
      "         164       0.27      0.22      0.25       116\n",
      "         165       0.13      0.09      0.10        35\n",
      "         166       0.35      0.31      0.33       131\n",
      "         167       0.13      0.09      0.11        55\n",
      "         168       0.33      0.23      0.27       194\n",
      "         169       0.30      0.39      0.34       187\n",
      "         170       0.22      0.22      0.22        86\n",
      "         171       0.16      0.09      0.12        65\n",
      "         172       0.00      0.00      0.00        12\n",
      "         173       0.00      0.00      0.00        17\n",
      "         174       0.25      0.38      0.30        13\n",
      "         175       0.09      0.05      0.06        21\n",
      "         176       0.05      0.04      0.04        28\n",
      "         177       0.00      0.00      0.00        11\n",
      "         178       0.17      0.17      0.17        41\n",
      "         179       0.12      0.14      0.13        64\n",
      "         180       0.32      0.25      0.28       685\n",
      "         181       0.00      0.00      0.00        16\n",
      "         182       0.18      0.15      0.16       363\n",
      "         183       0.28      0.29      0.28       534\n",
      "         184       0.19      0.10      0.13        70\n",
      "         185       0.21      0.12      0.15        25\n",
      "         186       0.00      0.00      0.00        32\n",
      "         187       0.00      0.00      0.00        11\n",
      "         188       0.00      0.00      0.00        59\n",
      "         189       0.16      0.10      0.12        87\n",
      "         190       0.44      0.54      0.49       551\n",
      "         191       0.00      0.00      0.00        15\n",
      "         192       0.28      0.18      0.22       106\n",
      "         193       0.20      0.16      0.18       154\n",
      "         194       0.62      0.74      0.67      1659\n",
      "         195       0.11      0.07      0.09        84\n",
      "         196       0.08      0.04      0.05       195\n",
      "         197       0.00      0.00      0.00        33\n",
      "         198       0.17      0.05      0.08        20\n",
      "         199       0.14      0.11      0.12        94\n",
      "         200       0.40      0.51      0.45       906\n",
      "         201       0.09      0.06      0.07       162\n",
      "         202       0.04      0.03      0.03        36\n",
      "         203       0.14      0.09      0.11       505\n",
      "         204       0.17      0.09      0.12        53\n",
      "         205       0.00      0.00      0.00        17\n",
      "         206       0.00      0.00      0.00        18\n",
      "         207       0.18      0.04      0.07        50\n",
      "         208       0.10      0.06      0.08        98\n",
      "         209       0.00      0.00      0.00        38\n",
      "         210       0.00      0.00      0.00        14\n",
      "         211       0.70      0.78      0.73      1427\n",
      "         212       0.00      0.00      0.00        16\n",
      "         213       0.33      0.11      0.17        35\n",
      "         214       0.40      0.36      0.38        69\n",
      "         215       0.16      0.05      0.08        92\n",
      "         216       0.20      0.18      0.19      1022\n",
      "         217       0.30      0.37      0.33       496\n",
      "         218       0.00      0.00      0.00        13\n",
      "         219       0.00      0.00      0.00        16\n",
      "         220       0.17      0.16      0.17        68\n",
      "         221       0.23      0.12      0.15        26\n",
      "         222       0.00      0.00      0.00        17\n",
      "         223       0.00      0.00      0.00        10\n",
      "         224       0.12      0.08      0.10       120\n",
      "         225       0.12      0.04      0.06        26\n",
      "         226       0.50      0.22      0.31        45\n",
      "         227       0.00      0.00      0.00        46\n",
      "         228       0.00      0.00      0.00        63\n",
      "         229       0.00      0.00      0.00         9\n",
      "         230       0.24      0.07      0.11        86\n",
      "         231       0.00      0.00      0.00        15\n",
      "         232       0.00      0.00      0.00        23\n",
      "         233       0.00      0.00      0.00        13\n",
      "         234       0.23      0.14      0.18       174\n",
      "         235       0.14      0.05      0.08        19\n",
      "         236       0.54      0.70      0.61       985\n",
      "         237       0.37      0.40      0.39       183\n",
      "         238       0.28      0.20      0.23       730\n",
      "         239       0.16      0.09      0.11       448\n",
      "         240       0.29      0.42      0.34        36\n",
      "         241       0.22      0.30      0.26        77\n",
      "         242       0.15      0.12      0.13        17\n",
      "         243       0.14      0.14      0.14       145\n",
      "         244       0.00      0.00      0.00        20\n",
      "         245       0.15      0.18      0.17        22\n",
      "         246       0.09      0.09      0.09        65\n",
      "         247       0.09      0.11      0.10        89\n",
      "         248       0.00      0.00      0.00        18\n",
      "         249       0.11      0.10      0.11        70\n",
      "         250       0.04      0.04      0.04        28\n",
      "         251       0.11      0.08      0.09        26\n",
      "         252       0.00      0.00      0.00        19\n",
      "         253       0.00      0.00      0.00        18\n",
      "         254       0.00      0.00      0.00         8\n",
      "         255       0.10      0.11      0.10        55\n",
      "         256       0.00      0.00      0.00        13\n",
      "         257       0.00      0.00      0.00        10\n",
      "         258       0.11      0.11      0.11        46\n",
      "         259       0.08      0.06      0.07        33\n",
      "         260       0.00      0.00      0.00        19\n",
      "         261       0.13      0.12      0.13       129\n",
      "         262       0.12      0.13      0.12        71\n",
      "         263       0.29      0.09      0.14        22\n",
      "         264       0.00      0.00      0.00        26\n",
      "         265       0.17      0.14      0.16        35\n",
      "         266       0.25      0.21      0.22       102\n",
      "         267       0.06      0.06      0.06        17\n",
      "         268       0.22      0.14      0.17        14\n",
      "         269       0.14      0.13      0.14        99\n",
      "         270       0.21      0.28      0.24        47\n",
      "         271       0.24      0.13      0.17        62\n",
      "         272       0.00      0.00      0.00        20\n",
      "         273       0.25      0.08      0.12        12\n",
      "         274       0.16      0.12      0.14        76\n",
      "         275       0.54      0.64      0.59       480\n",
      "         276       0.25      0.24      0.24        76\n",
      "         277       0.23      0.21      0.22       276\n",
      "         278       0.00      0.00      0.00        14\n",
      "         279       0.07      0.04      0.05       120\n",
      "         280       0.24      0.13      0.17        30\n",
      "         281       0.02      0.01      0.02        67\n",
      "         282       0.23      0.15      0.18       559\n",
      "         283       0.00      0.00      0.00        39\n",
      "         284       0.00      0.00      0.00        52\n",
      "         285       0.30      0.25      0.28       102\n",
      "         286       0.00      0.00      0.00        73\n",
      "         287       0.00      0.00      0.00        33\n",
      "         288       0.11      0.07      0.09        14\n",
      "         289       0.00      0.00      0.00        11\n",
      "         290       0.05      0.03      0.04        58\n",
      "         291       0.00      0.00      0.00        10\n",
      "         292       0.82      0.87      0.84      3491\n",
      "         293       0.56      0.36      0.43       112\n",
      "         294       0.07      0.02      0.03        65\n",
      "         295       0.15      0.10      0.12        58\n",
      "         296       0.20      0.14      0.16        22\n",
      "         297       0.00      0.00      0.00         8\n",
      "         298       0.12      0.09      0.10        34\n",
      "         299       0.00      0.00      0.00        10\n",
      "         300       0.00      0.00      0.00        19\n",
      "         301       0.20      0.24      0.22        25\n",
      "         302       0.06      0.04      0.05        25\n",
      "         303       0.06      0.04      0.05        27\n",
      "         304       0.26      0.16      0.20        67\n",
      "         305       0.00      0.00      0.00        10\n",
      "         306       0.32      0.21      0.25       117\n",
      "         307       0.00      0.00      0.00        10\n",
      "         308       0.24      0.18      0.21       104\n",
      "         309       0.27      0.44      0.34       115\n",
      "         310       0.11      0.10      0.11        20\n",
      "         311       0.20      0.15      0.17       168\n",
      "\n",
      "    accuracy                           0.50     80724\n",
      "   macro avg       0.17      0.15      0.15     80724\n",
      "weighted avg       0.46      0.50      0.47     80724\n",
      "\n"
     ]
    }
   ],
   "source": [
    "test_preds = knn.predict(test_embeddings)\n",
    "compute_metrics(test_labels, test_preds)"
   ]
  },
  {
   "cell_type": "markdown",
   "metadata": {},
   "source": [
    "## Triplets accuracy"
   ]
  },
  {
   "cell_type": "code",
   "execution_count": 52,
   "metadata": {
    "collapsed": true,
    "jupyter": {
     "outputs_hidden": true
    }
   },
   "outputs": [],
   "source": [
    "Example = namedtuple(\"Example\", [\"guid\", \"data\", \"label\"])\n",
    "TripletExample = namedtuple(\"TripletExample\", [\"anchor\", \"positive\", \"negative\", \"label\"])\n",
    "\n",
    "def create_triplets(data: List[Example]) -> List[TripletExample]:\n",
    "    \"\"\"\n",
    "    Create triplets for a [(label, data), (label, data)...] dataset\n",
    "    by using each example as an anchor and selecting randomly a\n",
    "    positive instance with the same label and a negative instance with a different label\n",
    "    \"\"\"\n",
    "    triplets = []\n",
    "    label2vec = defaultdict(list)\n",
    "    # Collect by label\n",
    "    for example in data:\n",
    "        label2vec[example.label].append(example)\n",
    " \n",
    "    for example in data:\n",
    "        anchor = example\n",
    " \n",
    "        if len(label2vec[example.label]) < 2: #We need at least 2 examples per label to create a triplet\n",
    "            continue\n",
    "        # Positive example from the same label\n",
    "        positive = None\n",
    "        while positive is None or positive.guid == anchor.guid:\n",
    "            positive = random.choice(label2vec[example.label])\n",
    "        # Negative example from different label\n",
    "        negative = None\n",
    "        while negative is None or negative.label == anchor.label:\n",
    "            negative = random.choice(data)\n",
    " \n",
    "        triplets.append(TripletExample(anchor=anchor.data,\n",
    "                                       positive=positive.data,\n",
    "                                       negative=negative.data,\n",
    "                                       label=anchor.label))\n",
    "    return triplets\n",
    "\n",
    "def wrap_dataset(data: np.ndarray, labels: np.ndarray) -> List[Example]:\n",
    "    \"\"\"\n",
    "    Create dataset for a sequence of [(label, data), (label, data)...] samples.\n",
    "    \"\"\"\n",
    "    return [Example(guid=i, data=d, label=l) for i, (d, l) in enumerate(zip(data, labels))]"
   ]
  },
  {
   "cell_type": "code",
   "execution_count": 53,
   "metadata": {
    "collapsed": true,
    "jupyter": {
     "outputs_hidden": true
    }
   },
   "outputs": [
    {
     "name": "stdout",
     "output_type": "stream",
     "text": [
      "Triplets Dataset length: 80724\n"
     ]
    }
   ],
   "source": [
    "test_triplets = create_triplets(wrap_dataset(test_embeddings, test_labels))\n",
    "print(f\"Triplets Dataset length: {len(test_triplets)}\")"
   ]
  },
  {
   "cell_type": "code",
   "execution_count": 54,
   "metadata": {
    "collapsed": true,
    "jupyter": {
     "outputs_hidden": true
    }
   },
   "outputs": [
    {
     "name": "stdout",
     "output_type": "stream",
     "text": [
      "Accuracy: 0.779\n"
     ]
    }
   ],
   "source": [
    "testing_margin = 0.2\n",
    "n_correct_triplets = 0\n",
    "\n",
    "for i, triplet in enumerate(test_triplets):\n",
    "    if (cosine(triplet.anchor, triplet.negative)) - (cosine(triplet.anchor, triplet.positive)) > testing_margin:\n",
    "        n_correct_triplets += 1\n",
    "        \n",
    "accuracy = n_correct_triplets / len(test_triplets)\n",
    "print('Accuracy: {:.3f}'.format(accuracy))"
   ]
  },
  {
   "cell_type": "markdown",
   "metadata": {},
   "source": [
    "### On stemming"
   ]
  },
  {
   "cell_type": "raw",
   "metadata": {},
   "source": [
    "LSTM, 128 bs, BatchNorm = Accuracy: 0.707\n",
    "BiLSTM, 512 bs, BatchNorm = Accuracy: 0.698\n",
    "LSTM 512 bs, BatchNorm + TD(GMaxPool) = Accuracy: 0.711\n",
    "LSTM 512 bs, BatchNorm + TD(GAvgPool) = Accuracy: 0.723\n",
    "LSTM 512 bs, BatchNorm + TD(GAvgPool) + Cat(GAvgPool, GMaxPool) = Accuracy: 0.723\n",
    "LSTM 512 bs, BatchNorm + Cat(GAvgPool, GMaxPool) = Accuracy: 0.717"
   ]
  },
  {
   "cell_type": "raw",
   "metadata": {},
   "source": [
    "Dimensions:\n",
    "    10 = Accuracy: 0.726\n",
    "    50 = Accuracy: 0.718\n",
    "    60 = Accuracy: 0.704\n",
    "    70 = Accuracy: 0.715\n",
    "    80 = Accuracy: 0.716\n",
    "    90 = Accuracy: 0.710\n",
    "    100 = Accuracy: 0.721 / 0.722"
   ]
  },
  {
   "cell_type": "markdown",
   "metadata": {},
   "source": [
    "### On lemmas"
   ]
  },
  {
   "cell_type": "raw",
   "metadata": {},
   "source": [
    "BiLSTM, 512 bs, BatchNorm = Accuracy: 0.760"
   ]
  },
  {
   "cell_type": "markdown",
   "metadata": {},
   "source": [
    "# Keywords"
   ]
  },
  {
   "cell_type": "code",
   "execution_count": null,
   "metadata": {},
   "outputs": [],
   "source": [
    "client_pattern = re.compile(f\"(client:)([А-Яа-яЁё#\\s]+)(operator:)?\")\n",
    "operator_pattern = re.compile(f\"(operator:)([А-Яа-яЁё#\\s]+)(client:)?\")\n",
    "\n",
    "def select_role_speech(df: pd.DataFrame, msg_col: str, role: str):\n",
    "    if role == 'client':\n",
    "        df['client_msg'] = df[msg_col].apply(lambda x: \" \".join([i[1].strip() for i in client_pattern.findall(x)])\n",
    "                                            if \"client\" in x else \"\") \n",
    "    else:\n",
    "        df['operator_msg'] = df[msg_col].apply(lambda x: \" \".join([i[1].strip() for i in operator_pattern.findall(x)])\n",
    "                                              if \"operator\" in x else \"\")\n",
    "    return df"
   ]
  },
  {
   "cell_type": "code",
   "execution_count": 117,
   "metadata": {},
   "outputs": [
    {
     "name": "stdout",
     "output_type": "stream",
     "text": [
      "From Train 330766, has vectors 313821, difference: 16945\n",
      "From Test 85054, has vectors 80724, difference: 4330\n",
      "Train without attention: 16945\n",
      "Test without attention: 4330\n"
     ]
    }
   ],
   "source": [
    "def add_attention_to_df(df: pd.DataFrame, attention_vecs: np.ndarray, \n",
    "                        indexes: np.ndarray) -> pd.DataFrame:\n",
    "    df['attention'] = None\n",
    "    for i, att in zip(indexes, attention_vecs):\n",
    "        df.at[i, 'attention'] = att\n",
    "    return df\n",
    "\n",
    "train_df = train_df.reset_index(drop=True)\n",
    "test_df = test_df.reset_index(drop=True)\n",
    "\n",
    "print(f\"From Train {train_df.shape[0]}, has vectors {train_df.iloc[train_indexes].shape[0]}, difference: {train_df.shape[0] - train_df.iloc[train_indexes].shape[0]}\")\n",
    "print(f\"From Test {test_df.shape[0]}, has vectors {test_df.iloc[test_indexes].shape[0]}, difference: {test_df.shape[0] - test_df.iloc[test_indexes].shape[0]}\")\n",
    "\n",
    "train_df = add_attention_to_df(train_df, train_attentions, train_indexes)\n",
    "test_df = add_attention_to_df(test_df, test_attentions, test_indexes)\n",
    "print(\"Train without attention:\", train_df.attention.isna().sum())\n",
    "print(\"Test without attention:\", test_df.attention.isna().sum())"
   ]
  },
  {
   "cell_type": "code",
   "execution_count": 149,
   "metadata": {
    "scrolled": true
   },
   "outputs": [
    {
     "name": "stderr",
     "output_type": "stream",
     "text": [
      "  0%|          | 0/1 [37:09<?, ?it/s]\n",
      "Exception ignored in: <bound method tqdm.__del__ of <tqdm.std.tqdm object at 0x7f5792ac3ba8>>\n",
      "Traceback (most recent call last):\n",
      "  File \"/opt/app-root/lib/python3.6/site-packages/tqdm/std.py\", line 1152, in __del__\n",
      "    self.close()\n",
      "  File \"/opt/app-root/lib/python3.6/site-packages/tqdm/std.py\", line 1271, in close\n",
      "    if self.disable:\n",
      "AttributeError: 'tqdm' object has no attribute 'disable'\n"
     ]
    },
    {
     "data": {
      "text/html": [
       "<div>\n",
       "<style scoped>\n",
       "    .dataframe tbody tr th:only-of-type {\n",
       "        vertical-align: middle;\n",
       "    }\n",
       "\n",
       "    .dataframe tbody tr th {\n",
       "        vertical-align: top;\n",
       "    }\n",
       "\n",
       "    .dataframe thead th {\n",
       "        text-align: right;\n",
       "    }\n",
       "</style>\n",
       "<table border=\"1\" class=\"dataframe\">\n",
       "  <thead>\n",
       "    <tr style=\"text-align: right;\">\n",
       "      <th></th>\n",
       "      <th>req_num</th>\n",
       "      <th>req_reg_datetime</th>\n",
       "      <th>msg</th>\n",
       "      <th>product</th>\n",
       "      <th>subject</th>\n",
       "      <th>s_subject</th>\n",
       "      <th>subproduct</th>\n",
       "      <th>client_msg_vector</th>\n",
       "      <th>vector_update_datetime</th>\n",
       "      <th>label_name</th>\n",
       "      <th>label</th>\n",
       "      <th>attention</th>\n",
       "      <th>tokens</th>\n",
       "    </tr>\n",
       "  </thead>\n",
       "  <tbody>\n",
       "    <tr>\n",
       "      <th>0</th>\n",
       "      <td>2101070164160500</td>\n",
       "      <td>2021-01-07 13:43:46</td>\n",
       "      <td>operator: #ФИО  здравствуйте operator:и вас с ...</td>\n",
       "      <td>Банковская карта</td>\n",
       "      <td>На карту Сбербанка</td>\n",
       "      <td>Комиссии, сроки, условия</td>\n",
       "      <td>Перевод (от ФЛ к ФЛ)</td>\n",
       "      <td>[284.0, 99.0, 284.0, 7.0, 17.0, 39.0, 3331.0, ...</td>\n",
       "      <td>12:50:28.455658</td>\n",
       "      <td>Банковская карта : Комиссии, сроки, условия</td>\n",
       "      <td>48</td>\n",
       "      <td>[[0.00022447215], [0.00050443213], [0.00026666...</td>\n",
       "      <td>[праздник, день, праздник, сказать, хотеть, пе...</td>\n",
       "    </tr>\n",
       "    <tr>\n",
       "      <th>1</th>\n",
       "      <td>2101040980953500</td>\n",
       "      <td>2021-01-04 10:39:27</td>\n",
       "      <td>operator:здравствуйте client:здравствуйте мне ...</td>\n",
       "      <td>Банковская карта</td>\n",
       "      <td>Предоставление информации</td>\n",
       "      <td>Статус БК/Порядок предоставления документов</td>\n",
       "      <td>Дебетовая карта</td>\n",
       "      <td>[1.0, 61.0, 236.0, 153.0, 656.0, 41070.0, 165....</td>\n",
       "      <td>12:50:28.455658</td>\n",
       "      <td>Банковская карта : Статус БК/Порядок предостав...</td>\n",
       "      <td>100</td>\n",
       "      <td>[[0.00033805988], [0.0024606152], [0.001015593...</td>\n",
       "      <td>[карта, разблокировать, давать_проверить, возм...</td>\n",
       "    </tr>\n",
       "  </tbody>\n",
       "</table>\n",
       "</div>"
      ],
      "text/plain": [
       "            req_num    req_reg_datetime  \\\n",
       "0  2101070164160500 2021-01-07 13:43:46   \n",
       "1  2101040980953500 2021-01-04 10:39:27   \n",
       "\n",
       "                                                 msg           product  \\\n",
       "0  operator: #ФИО  здравствуйте operator:и вас с ...  Банковская карта   \n",
       "1  operator:здравствуйте client:здравствуйте мне ...  Банковская карта   \n",
       "\n",
       "                     subject                                    s_subject  \\\n",
       "0         На карту Сбербанка                     Комиссии, сроки, условия   \n",
       "1  Предоставление информации  Статус БК/Порядок предоставления документов   \n",
       "\n",
       "             subproduct                                  client_msg_vector  \\\n",
       "0  Перевод (от ФЛ к ФЛ)  [284.0, 99.0, 284.0, 7.0, 17.0, 39.0, 3331.0, ...   \n",
       "1       Дебетовая карта  [1.0, 61.0, 236.0, 153.0, 656.0, 41070.0, 165....   \n",
       "\n",
       "  vector_update_datetime                                         label_name  \\\n",
       "0        12:50:28.455658        Банковская карта : Комиссии, сроки, условия   \n",
       "1        12:50:28.455658  Банковская карта : Статус БК/Порядок предостав...   \n",
       "\n",
       "   label                                          attention  \\\n",
       "0     48  [[0.00022447215], [0.00050443213], [0.00026666...   \n",
       "1    100  [[0.00033805988], [0.0024606152], [0.001015593...   \n",
       "\n",
       "                                              tokens  \n",
       "0  [праздник, день, праздник, сказать, хотеть, пе...  \n",
       "1  [карта, разблокировать, давать_проверить, возм...  "
      ]
     },
     "execution_count": 149,
     "metadata": {},
     "output_type": "execute_result"
    }
   ],
   "source": [
    "train_df_att = dvect.devectorize_df(train_df, 'client_msg_vector', 'tokens', padding_value=0)\n",
    "test_df_att = dvect.devectorize_df(test_df, 'client_msg_vector', 'tokens', padding_value=0)\n",
    "train_df_att.head(2)"
   ]
  },
  {
   "cell_type": "code",
   "execution_count": 189,
   "metadata": {
    "scrolled": true
   },
   "outputs": [
    {
     "name": "stdout",
     "output_type": "stream",
     "text": [
      "80724\n"
     ]
    }
   ],
   "source": [
    "# View attention <--> words pairs\n",
    "scored_texts = []\n",
    "for i, (att, wrds) in enumerate(zip(test_df_att['attention'].dropna().apply(lambda x: x.reshape(-1).tolist()).to_list(),\n",
    "                          test_df_att['tokens'].dropna().to_list())):   \n",
    "    scored_texts.append({w: a for w, a in zip(wrds, att)})\n",
    "\n",
    "\n",
    "print(len(scored_texts))"
   ]
  },
  {
   "cell_type": "code",
   "execution_count": 194,
   "metadata": {},
   "outputs": [
    {
     "data": {
      "text/plain": [
       "('operator: #ФИО  здравствуйте client:здравствуйте девушка у меня такой вопрос я пытался перевести сумму сто  #ЧИСЛО   #ЧИСЛО  тысяч client:вот а мне запрещают ее переводить operator: #ФИО   #ФИО  вас требует подтверждения client:ну как подтверждение там лицом я фотографировался client:голосовое подтверждение все сказал все равно запрещают типа махинации какие то operator:так одна минута client:а оплатить можно operator:спасибо за ожидание я проверил информацию значит работа сбербанк онлайн сейчас приостановлено наш сотрудник свяжется с вами в ближайшее время для разблокировки доступа в личный кабинет вам необходимо будет дождаться звонка и после этого вы сможете работать в личном кабинете client:ну блин ну понимаете мне деньги надо сейчас перевести там может на операцию отправить деньги operator:я понимаю но к сожалению я разблокировать не смогу это только на исходящем звонке я вам должен позвонить сотрудник банка client:замечательно спасибо девушка operator:да не за что всего хорошего до свидания operator:да client:там двоечку поставьте банк заранее operator:к сожалению вы можете оценить работу банка если вам поступит смс сообщение client:я оценю спасибо до свидания operator:до свидания',\n",
       " 'Онлайн-сервисы : Разблокировка профиля СБОЛ')"
      ]
     },
     "execution_count": 194,
     "metadata": {},
     "output_type": "execute_result"
    }
   ],
   "source": [
    "test_df_att['msg'][2], test_df_att['label_name'][2]"
   ]
  },
  {
   "cell_type": "code",
   "execution_count": 195,
   "metadata": {},
   "outputs": [
    {
     "data": {
      "text/plain": [
       "[('разблокировка_доступ', 0.32091280817985535),\n",
       " ('дождаться_звонок', 0.10068386048078537),\n",
       " ('близкий_время', 0.038663335144519806),\n",
       " ('связаться', 0.0365888886153698),\n",
       " ('фотографироваться', 0.034667424857616425),\n",
       " ('исходящий_звонок', 0.03249739855527878),\n",
       " ('голосовой_подтверждение', 0.024939369410276413),\n",
       " ('наш_сотрудник', 0.02305242419242859),\n",
       " ('сотрудник_банк', 0.014191335067152977),\n",
       " ('махинация', 0.012286397628486156),\n",
       " ('лицо', 0.010402563028037548),\n",
       " ('запрещать', 0.007487892638891935),\n",
       " ('минута', 0.006180752068758011),\n",
       " ('свидание', 0.006024944595992565),\n",
       " ('работать', 0.00585832679644227),\n",
       " ('оплатить', 0.00577946612611413),\n",
       " ('проверить_информация', 0.00576845882460475),\n",
       " ('личный_кабинет', 0.004828625358641148),\n",
       " ('оценить', 0.004494155757129192),\n",
       " ('требовать_подтверждение', 0.0033382843248546124),\n",
       " ('свидание_свидание', 0.0028402814641594887),\n",
       " ('весь_хороший', 0.0026575124356895685),\n",
       " ('двоечка', 0.0023872924502938986),\n",
       " ('замечательный', 0.0023000906221568584),\n",
       " ('поступить_смс', 0.002227241639047861),\n",
       " ('ожидание', 0.0020803487859666348),\n",
       " ('подтверждение', 0.00201676064170897),\n",
       " ('тип', 0.0020103086717426777),\n",
       " ('разблокировать', 0.0019282946595922112),\n",
       " ('приостановить', 0.0018829155014827847),\n",
       " ('девушка', 0.0016604092670604587),\n",
       " ('позвонить', 0.0014609629288315773),\n",
       " ('сказать', 0.0011561049614101648),\n",
       " ('смочь', 0.0011163668241351843),\n",
       " ('заранее', 0.0010897130705416203),\n",
       " ('сбербанк_онлайн', 0.0009365753503516316),\n",
       " ('сто_тысяча', 0.0008063135319389403),\n",
       " ('мочь', 0.0007090066210366786),\n",
       " ('сообщение', 0.0006930783856660128),\n",
       " ('сожаление', 0.0006445409962907434),\n",
       " ('отправить', 0.0005739630432799459),\n",
       " ('перевести', 0.0005085166194476187),\n",
       " ('поставить', 0.0004688165499828756),\n",
       " ('должный', 0.0004387612862046808),\n",
       " ('работа', 0.00040570099372416735),\n",
       " ('сумма', 0.00033811345929279923),\n",
       " ('операция', 0.00023281564062926918),\n",
       " ('переводить', 0.00022553240705747157),\n",
       " ('пытаться_перевести', 0.0002010197495110333),\n",
       " ('банк', 0.0001928065757965669),\n",
       " ('вопрос', 0.00013011303963139653),\n",
       " ('деньга', 8.304600487463176e-05),\n",
       " ('понимать', 6.0171376389916986e-05)]"
      ]
     },
     "execution_count": 195,
     "metadata": {},
     "output_type": "execute_result"
    }
   ],
   "source": [
    "sorted(scored_texts[2].items(), key=lambda x: -x[1])"
   ]
  },
  {
   "cell_type": "code",
   "execution_count": null,
   "metadata": {},
   "outputs": [],
   "source": []
  },
  {
   "cell_type": "code",
   "execution_count": null,
   "metadata": {},
   "outputs": [],
   "source": []
  },
  {
   "cell_type": "code",
   "execution_count": null,
   "metadata": {},
   "outputs": [],
   "source": []
  },
  {
   "cell_type": "code",
   "execution_count": null,
   "metadata": {},
   "outputs": [],
   "source": []
  }
 ],
 "metadata": {
  "accelerator": "GPU",
  "colab": {
   "collapsed_sections": [],
   "name": "Keras BiLSTM with semi-hard triplet loss.ipynb",
   "provenance": [],
   "toc_visible": true
  },
  "kernelspec": {
   "display_name": "Python 3",
   "language": "python",
   "name": "python3"
  },
  "language_info": {
   "codemirror_mode": {
    "name": "ipython",
    "version": 3
   },
   "file_extension": ".py",
   "mimetype": "text/x-python",
   "name": "python",
   "nbconvert_exporter": "python",
   "pygments_lexer": "ipython3",
   "version": "3.7.3"
  }
 },
 "nbformat": 4,
 "nbformat_minor": 4
}
